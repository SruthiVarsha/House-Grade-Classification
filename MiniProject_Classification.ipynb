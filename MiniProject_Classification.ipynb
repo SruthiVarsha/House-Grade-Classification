{
 "cells": [
  {
   "cell_type": "markdown",
   "id": "690a9bf8",
   "metadata": {},
   "source": [
    "# Classification Mini Project"
   ]
  },
  {
   "cell_type": "markdown",
   "id": "ee301229",
   "metadata": {},
   "source": [
    "# House Grade Classification\n",
    "Property buyers have different requirements. To facilitate this, real estate companies prefer categorizing \n",
    "various houses into different grades based on various parameters. This would help agents in identifying \n",
    "the type of house a customer is looking for. This way, the search for the house can be narrowed down \n",
    "by focusing only on the ‘condition of the house’.\n",
    "\n",
    "The Grade (condition of the house that ranges from A (Best) - E (Worst)) can also be used by existing owners to list their properties for sale. Grading helps them in arriving at a price of the house.\n",
    "\n",
    "**Business Objective**\n",
    "- Build a predictive model to determine the Grade of \n",
    "house (The grades are A,B,C,D, and E)"
   ]
  },
  {
   "cell_type": "markdown",
   "id": "64620d80",
   "metadata": {},
   "source": [
    "### Importing Required Libraries"
   ]
  },
  {
   "cell_type": "code",
   "execution_count": 1,
   "id": "d221a862",
   "metadata": {},
   "outputs": [],
   "source": [
    "import pandas as pd                                                  # for working with dataframes\n",
    "import numpy as np                                                   # for working with arrays\n",
    "import matplotlib.pyplot as plt                                      # for visualizations\n",
    "import seaborn as sb                                                 # for visualizations\n",
    "from tabulate import tabulate                                        # for tabulations\n",
    "\n",
    "from sklearn import preprocessing                                    # for preprocessing datas\n",
    "from sklearn.preprocessing import StandardScaler,MinMaxScaler        # for data scaling\n",
    "from sklearn.model_selection import train_test_split                 # for data splitting\n",
    "from sklearn.linear_model import LogisticRegression                  # logistic regression model\n",
    "from sklearn.metrics import confusion_matrix,recall_score,accuracy_score,f1_score,precision_score  # Evaluation metrics\n",
    "from sklearn.naive_bayes import GaussianNB                           # Naive Bayes model\n",
    "from sklearn.tree import DecisionTreeClassifier                      # decision tree classifier\n",
    "from sklearn.ensemble import RandomForestClassifier,AdaBoostClassifier,StackingClassifier  # for ensemble models\n",
    "from sklearn.model_selection import GridSearchCV                     # Hyperparameter tuning\n",
    "from sklearn.model_selection import RepeatedStratifiedKFold,cross_val_score,KFold,StratifiedKFold,cross_validate # splitting and cross validation\n",
    "\n",
    "import warnings\n",
    "warnings.filterwarnings('ignore')                                       # to ignore warnings"
   ]
  },
  {
   "cell_type": "markdown",
   "id": "b4383128",
   "metadata": {},
   "source": [
    "### Loading the dataset"
   ]
  },
  {
   "cell_type": "code",
   "execution_count": 2,
   "id": "24fedfc4",
   "metadata": {},
   "outputs": [
    {
     "data": {
      "text/html": [
       "<div>\n",
       "<style scoped>\n",
       "    .dataframe tbody tr th:only-of-type {\n",
       "        vertical-align: middle;\n",
       "    }\n",
       "\n",
       "    .dataframe tbody tr th {\n",
       "        vertical-align: top;\n",
       "    }\n",
       "\n",
       "    .dataframe thead th {\n",
       "        text-align: right;\n",
       "    }\n",
       "</style>\n",
       "<table border=\"1\" class=\"dataframe\">\n",
       "  <thead>\n",
       "    <tr style=\"text-align: right;\">\n",
       "      <th></th>\n",
       "      <th>Id</th>\n",
       "      <th>Area(total)</th>\n",
       "      <th>Trooms</th>\n",
       "      <th>Nbedrooms</th>\n",
       "      <th>Nbwashrooms</th>\n",
       "      <th>Twashrooms</th>\n",
       "      <th>roof</th>\n",
       "      <th>Roof(Area)</th>\n",
       "      <th>Lawn(Area)</th>\n",
       "      <th>Nfloors</th>\n",
       "      <th>API</th>\n",
       "      <th>ANB</th>\n",
       "      <th>Expected price</th>\n",
       "      <th>Grade</th>\n",
       "    </tr>\n",
       "  </thead>\n",
       "  <tbody>\n",
       "    <tr>\n",
       "      <th>0</th>\n",
       "      <td>1</td>\n",
       "      <td>339</td>\n",
       "      <td>6</td>\n",
       "      <td>5</td>\n",
       "      <td>4</td>\n",
       "      <td>6</td>\n",
       "      <td>NO</td>\n",
       "      <td>0</td>\n",
       "      <td>76</td>\n",
       "      <td>2</td>\n",
       "      <td>79</td>\n",
       "      <td>6</td>\n",
       "      <td>3481</td>\n",
       "      <td>D</td>\n",
       "    </tr>\n",
       "    <tr>\n",
       "      <th>1</th>\n",
       "      <td>2</td>\n",
       "      <td>358</td>\n",
       "      <td>5</td>\n",
       "      <td>4</td>\n",
       "      <td>3</td>\n",
       "      <td>4</td>\n",
       "      <td>YES</td>\n",
       "      <td>71</td>\n",
       "      <td>96</td>\n",
       "      <td>3</td>\n",
       "      <td>72</td>\n",
       "      <td>4</td>\n",
       "      <td>3510</td>\n",
       "      <td>D</td>\n",
       "    </tr>\n",
       "    <tr>\n",
       "      <th>2</th>\n",
       "      <td>3</td>\n",
       "      <td>324</td>\n",
       "      <td>7</td>\n",
       "      <td>5</td>\n",
       "      <td>4</td>\n",
       "      <td>5</td>\n",
       "      <td>YES</td>\n",
       "      <td>101</td>\n",
       "      <td>117</td>\n",
       "      <td>5</td>\n",
       "      <td>64</td>\n",
       "      <td>3</td>\n",
       "      <td>3748</td>\n",
       "      <td>C</td>\n",
       "    </tr>\n",
       "    <tr>\n",
       "      <th>3</th>\n",
       "      <td>4</td>\n",
       "      <td>330</td>\n",
       "      <td>6</td>\n",
       "      <td>4</td>\n",
       "      <td>3</td>\n",
       "      <td>5</td>\n",
       "      <td>YES</td>\n",
       "      <td>101</td>\n",
       "      <td>82</td>\n",
       "      <td>2</td>\n",
       "      <td>59</td>\n",
       "      <td>2</td>\n",
       "      <td>3134</td>\n",
       "      <td>D</td>\n",
       "    </tr>\n",
       "    <tr>\n",
       "      <th>4</th>\n",
       "      <td>5</td>\n",
       "      <td>320</td>\n",
       "      <td>7</td>\n",
       "      <td>4</td>\n",
       "      <td>4</td>\n",
       "      <td>5</td>\n",
       "      <td>NO</td>\n",
       "      <td>0</td>\n",
       "      <td>75</td>\n",
       "      <td>3</td>\n",
       "      <td>40</td>\n",
       "      <td>1</td>\n",
       "      <td>3843</td>\n",
       "      <td>D</td>\n",
       "    </tr>\n",
       "  </tbody>\n",
       "</table>\n",
       "</div>"
      ],
      "text/plain": [
       "   Id  Area(total)  Trooms  Nbedrooms  Nbwashrooms  Twashrooms roof  \\\n",
       "0   1          339       6          5            4           6   NO   \n",
       "1   2          358       5          4            3           4  YES   \n",
       "2   3          324       7          5            4           5  YES   \n",
       "3   4          330       6          4            3           5  YES   \n",
       "4   5          320       7          4            4           5   NO   \n",
       "\n",
       "   Roof(Area)  Lawn(Area)  Nfloors  API  ANB  Expected price Grade  \n",
       "0           0          76        2   79    6            3481     D  \n",
       "1          71          96        3   72    4            3510     D  \n",
       "2         101         117        5   64    3            3748     C  \n",
       "3         101          82        2   59    2            3134     D  \n",
       "4           0          75        3   40    1            3843     D  "
      ]
     },
     "execution_count": 2,
     "metadata": {},
     "output_type": "execute_result"
    }
   ],
   "source": [
    "df = pd.read_csv('DS3_C6_S2_Classification_HouseGrade_Data_Project.csv')\n",
    "df.head()"
   ]
  },
  {
   "cell_type": "code",
   "execution_count": 3,
   "id": "4878171c",
   "metadata": {},
   "outputs": [
    {
     "data": {
      "text/html": [
       "<div>\n",
       "<style scoped>\n",
       "    .dataframe tbody tr th:only-of-type {\n",
       "        vertical-align: middle;\n",
       "    }\n",
       "\n",
       "    .dataframe tbody tr th {\n",
       "        vertical-align: top;\n",
       "    }\n",
       "\n",
       "    .dataframe thead th {\n",
       "        text-align: right;\n",
       "    }\n",
       "</style>\n",
       "<table border=\"1\" class=\"dataframe\">\n",
       "  <thead>\n",
       "    <tr style=\"text-align: right;\">\n",
       "      <th></th>\n",
       "      <th>Id</th>\n",
       "      <th>Area(total)</th>\n",
       "      <th>Trooms</th>\n",
       "      <th>Nbedrooms</th>\n",
       "      <th>Nbwashrooms</th>\n",
       "      <th>Twashrooms</th>\n",
       "      <th>roof</th>\n",
       "      <th>Roof(Area)</th>\n",
       "      <th>Lawn(Area)</th>\n",
       "      <th>Nfloors</th>\n",
       "      <th>API</th>\n",
       "      <th>ANB</th>\n",
       "      <th>Expected price</th>\n",
       "      <th>Grade</th>\n",
       "    </tr>\n",
       "  </thead>\n",
       "  <tbody>\n",
       "    <tr>\n",
       "      <th>2995</th>\n",
       "      <td>2996</td>\n",
       "      <td>341</td>\n",
       "      <td>9</td>\n",
       "      <td>6</td>\n",
       "      <td>5</td>\n",
       "      <td>7</td>\n",
       "      <td>YES</td>\n",
       "      <td>95</td>\n",
       "      <td>115</td>\n",
       "      <td>5</td>\n",
       "      <td>90</td>\n",
       "      <td>2</td>\n",
       "      <td>4246</td>\n",
       "      <td>B</td>\n",
       "    </tr>\n",
       "    <tr>\n",
       "      <th>2996</th>\n",
       "      <td>2997</td>\n",
       "      <td>292</td>\n",
       "      <td>9</td>\n",
       "      <td>8</td>\n",
       "      <td>7</td>\n",
       "      <td>8</td>\n",
       "      <td>YES</td>\n",
       "      <td>116</td>\n",
       "      <td>87</td>\n",
       "      <td>7</td>\n",
       "      <td>97</td>\n",
       "      <td>4</td>\n",
       "      <td>3753</td>\n",
       "      <td>A</td>\n",
       "    </tr>\n",
       "    <tr>\n",
       "      <th>2997</th>\n",
       "      <td>2998</td>\n",
       "      <td>328</td>\n",
       "      <td>7</td>\n",
       "      <td>4</td>\n",
       "      <td>3</td>\n",
       "      <td>5</td>\n",
       "      <td>NO</td>\n",
       "      <td>0</td>\n",
       "      <td>78</td>\n",
       "      <td>5</td>\n",
       "      <td>95</td>\n",
       "      <td>6</td>\n",
       "      <td>3607</td>\n",
       "      <td>D</td>\n",
       "    </tr>\n",
       "    <tr>\n",
       "      <th>2998</th>\n",
       "      <td>2999</td>\n",
       "      <td>293</td>\n",
       "      <td>9</td>\n",
       "      <td>7</td>\n",
       "      <td>7</td>\n",
       "      <td>8</td>\n",
       "      <td>NO</td>\n",
       "      <td>0</td>\n",
       "      <td>78</td>\n",
       "      <td>7</td>\n",
       "      <td>51</td>\n",
       "      <td>3</td>\n",
       "      <td>4198</td>\n",
       "      <td>B</td>\n",
       "    </tr>\n",
       "    <tr>\n",
       "      <th>2999</th>\n",
       "      <td>3000</td>\n",
       "      <td>343</td>\n",
       "      <td>7</td>\n",
       "      <td>6</td>\n",
       "      <td>6</td>\n",
       "      <td>8</td>\n",
       "      <td>NO</td>\n",
       "      <td>0</td>\n",
       "      <td>108</td>\n",
       "      <td>5</td>\n",
       "      <td>95</td>\n",
       "      <td>3</td>\n",
       "      <td>4105</td>\n",
       "      <td>C</td>\n",
       "    </tr>\n",
       "  </tbody>\n",
       "</table>\n",
       "</div>"
      ],
      "text/plain": [
       "        Id  Area(total)  Trooms  Nbedrooms  Nbwashrooms  Twashrooms roof  \\\n",
       "2995  2996          341       9          6            5           7  YES   \n",
       "2996  2997          292       9          8            7           8  YES   \n",
       "2997  2998          328       7          4            3           5   NO   \n",
       "2998  2999          293       9          7            7           8   NO   \n",
       "2999  3000          343       7          6            6           8   NO   \n",
       "\n",
       "      Roof(Area)  Lawn(Area)  Nfloors  API  ANB  Expected price Grade  \n",
       "2995          95         115        5   90    2            4246     B  \n",
       "2996         116          87        7   97    4            3753     A  \n",
       "2997           0          78        5   95    6            3607     D  \n",
       "2998           0          78        7   51    3            4198     B  \n",
       "2999           0         108        5   95    3            4105     C  "
      ]
     },
     "execution_count": 3,
     "metadata": {},
     "output_type": "execute_result"
    }
   ],
   "source": [
    "df.tail()"
   ]
  },
  {
   "cell_type": "markdown",
   "id": "ea4ae467",
   "metadata": {},
   "source": [
    "**Data Dictionary**:\n",
    "- **Id** : Unique record identification number\n",
    "- **Area(total)** : Total area of the house\n",
    "- **Trooms** : Number of rooms in the house\n",
    "- **Nbedrooms** : Number of bedrooms in the house\n",
    "- **Nbwashrooms** : Number of attached washrooms with bedroom\n",
    "- **Twashrooms** : Total number of washrooms\n",
    "- **roof** : Does the house have a roof \n",
    "- **Roof(Area)** : Area of the roof\n",
    "- **Lawn(Area)** : Area of the lawn\n",
    "- **Nfloors** : Total floors\n",
    "- **API** : Air pollution index level\n",
    "- **ANB** : Average number belonging\n",
    "- **Expectedprice** : Approximate cost price of the property\n",
    "- **Grade** : The grade of the house/property  *(Target)*"
   ]
  },
  {
   "cell_type": "markdown",
   "id": "043ef3c4",
   "metadata": {},
   "source": [
    "### Shape of dataset"
   ]
  },
  {
   "cell_type": "code",
   "execution_count": 4,
   "id": "5528d712",
   "metadata": {},
   "outputs": [
    {
     "name": "stdout",
     "output_type": "stream",
     "text": [
      "Shape   : (3000, 14)\n",
      "Rows    : 3000\n",
      "Columns : 14\n"
     ]
    }
   ],
   "source": [
    "print('Shape   :',df.shape)\n",
    "print('Rows    :',df.shape[0])\n",
    "print('Columns :',df.shape[1])"
   ]
  },
  {
   "cell_type": "markdown",
   "id": "33360a5d",
   "metadata": {},
   "source": [
    "### Information of Dataset"
   ]
  },
  {
   "cell_type": "code",
   "execution_count": 5,
   "id": "bdff9c36",
   "metadata": {},
   "outputs": [
    {
     "name": "stdout",
     "output_type": "stream",
     "text": [
      "<class 'pandas.core.frame.DataFrame'>\n",
      "RangeIndex: 3000 entries, 0 to 2999\n",
      "Data columns (total 14 columns):\n",
      " #   Column          Non-Null Count  Dtype \n",
      "---  ------          --------------  ----- \n",
      " 0   Id              3000 non-null   int64 \n",
      " 1   Area(total)     3000 non-null   int64 \n",
      " 2   Trooms          3000 non-null   int64 \n",
      " 3   Nbedrooms       3000 non-null   int64 \n",
      " 4   Nbwashrooms     3000 non-null   int64 \n",
      " 5   Twashrooms      3000 non-null   int64 \n",
      " 6   roof            3000 non-null   object\n",
      " 7   Roof(Area)      3000 non-null   int64 \n",
      " 8   Lawn(Area)      3000 non-null   int64 \n",
      " 9   Nfloors         3000 non-null   int64 \n",
      " 10  API             3000 non-null   int64 \n",
      " 11  ANB             3000 non-null   int64 \n",
      " 12  Expected price  3000 non-null   int64 \n",
      " 13  Grade           3000 non-null   object\n",
      "dtypes: int64(12), object(2)\n",
      "memory usage: 328.2+ KB\n"
     ]
    }
   ],
   "source": [
    "df.info()"
   ]
  },
  {
   "cell_type": "markdown",
   "id": "62efcd02",
   "metadata": {},
   "source": [
    "There are a total of 13 columns with 12 numerical and 2 categorical columns."
   ]
  },
  {
   "cell_type": "markdown",
   "id": "317e591d",
   "metadata": {},
   "source": [
    "### Summary of DataSet"
   ]
  },
  {
   "cell_type": "code",
   "execution_count": 6,
   "id": "441ee658",
   "metadata": {},
   "outputs": [
    {
     "data": {
      "text/html": [
       "<div>\n",
       "<style scoped>\n",
       "    .dataframe tbody tr th:only-of-type {\n",
       "        vertical-align: middle;\n",
       "    }\n",
       "\n",
       "    .dataframe tbody tr th {\n",
       "        vertical-align: top;\n",
       "    }\n",
       "\n",
       "    .dataframe thead th {\n",
       "        text-align: right;\n",
       "    }\n",
       "</style>\n",
       "<table border=\"1\" class=\"dataframe\">\n",
       "  <thead>\n",
       "    <tr style=\"text-align: right;\">\n",
       "      <th></th>\n",
       "      <th>Id</th>\n",
       "      <th>Area(total)</th>\n",
       "      <th>Trooms</th>\n",
       "      <th>Nbedrooms</th>\n",
       "      <th>Nbwashrooms</th>\n",
       "      <th>Twashrooms</th>\n",
       "      <th>Roof(Area)</th>\n",
       "      <th>Lawn(Area)</th>\n",
       "      <th>Nfloors</th>\n",
       "      <th>API</th>\n",
       "      <th>ANB</th>\n",
       "      <th>Expected price</th>\n",
       "    </tr>\n",
       "  </thead>\n",
       "  <tbody>\n",
       "    <tr>\n",
       "      <th>count</th>\n",
       "      <td>3000.000000</td>\n",
       "      <td>3000.000000</td>\n",
       "      <td>3000.000000</td>\n",
       "      <td>3000.000000</td>\n",
       "      <td>3000.000000</td>\n",
       "      <td>3000.000000</td>\n",
       "      <td>3000.000000</td>\n",
       "      <td>3000.000000</td>\n",
       "      <td>3000.000000</td>\n",
       "      <td>3000.000000</td>\n",
       "      <td>3000.00000</td>\n",
       "      <td>3000.000000</td>\n",
       "    </tr>\n",
       "    <tr>\n",
       "      <th>mean</th>\n",
       "      <td>1500.500000</td>\n",
       "      <td>325.117000</td>\n",
       "      <td>7.021667</td>\n",
       "      <td>5.023000</td>\n",
       "      <td>4.513667</td>\n",
       "      <td>6.010667</td>\n",
       "      <td>48.980667</td>\n",
       "      <td>95.609333</td>\n",
       "      <td>4.013333</td>\n",
       "      <td>70.190667</td>\n",
       "      <td>3.47900</td>\n",
       "      <td>3782.938333</td>\n",
       "    </tr>\n",
       "    <tr>\n",
       "      <th>std</th>\n",
       "      <td>866.169729</td>\n",
       "      <td>20.507742</td>\n",
       "      <td>1.421221</td>\n",
       "      <td>1.634838</td>\n",
       "      <td>1.715263</td>\n",
       "      <td>1.786136</td>\n",
       "      <td>48.746641</td>\n",
       "      <td>14.837388</td>\n",
       "      <td>1.621532</td>\n",
       "      <td>17.563460</td>\n",
       "      <td>1.69426</td>\n",
       "      <td>567.189995</td>\n",
       "    </tr>\n",
       "    <tr>\n",
       "      <th>min</th>\n",
       "      <td>1.000000</td>\n",
       "      <td>290.000000</td>\n",
       "      <td>5.000000</td>\n",
       "      <td>2.000000</td>\n",
       "      <td>1.000000</td>\n",
       "      <td>2.000000</td>\n",
       "      <td>0.000000</td>\n",
       "      <td>70.000000</td>\n",
       "      <td>1.000000</td>\n",
       "      <td>40.000000</td>\n",
       "      <td>1.00000</td>\n",
       "      <td>2504.000000</td>\n",
       "    </tr>\n",
       "    <tr>\n",
       "      <th>25%</th>\n",
       "      <td>750.750000</td>\n",
       "      <td>308.000000</td>\n",
       "      <td>6.000000</td>\n",
       "      <td>4.000000</td>\n",
       "      <td>3.000000</td>\n",
       "      <td>5.000000</td>\n",
       "      <td>0.000000</td>\n",
       "      <td>83.000000</td>\n",
       "      <td>3.000000</td>\n",
       "      <td>55.000000</td>\n",
       "      <td>2.00000</td>\n",
       "      <td>3354.000000</td>\n",
       "    </tr>\n",
       "    <tr>\n",
       "      <th>50%</th>\n",
       "      <td>1500.500000</td>\n",
       "      <td>325.000000</td>\n",
       "      <td>7.000000</td>\n",
       "      <td>5.000000</td>\n",
       "      <td>4.000000</td>\n",
       "      <td>6.000000</td>\n",
       "      <td>71.000000</td>\n",
       "      <td>96.000000</td>\n",
       "      <td>4.000000</td>\n",
       "      <td>70.000000</td>\n",
       "      <td>4.00000</td>\n",
       "      <td>3771.000000</td>\n",
       "    </tr>\n",
       "    <tr>\n",
       "      <th>75%</th>\n",
       "      <td>2250.250000</td>\n",
       "      <td>343.000000</td>\n",
       "      <td>8.000000</td>\n",
       "      <td>6.000000</td>\n",
       "      <td>6.000000</td>\n",
       "      <td>7.000000</td>\n",
       "      <td>96.000000</td>\n",
       "      <td>109.000000</td>\n",
       "      <td>5.000000</td>\n",
       "      <td>85.000000</td>\n",
       "      <td>5.00000</td>\n",
       "      <td>4208.000000</td>\n",
       "    </tr>\n",
       "    <tr>\n",
       "      <th>max</th>\n",
       "      <td>3000.000000</td>\n",
       "      <td>360.000000</td>\n",
       "      <td>9.000000</td>\n",
       "      <td>8.000000</td>\n",
       "      <td>8.000000</td>\n",
       "      <td>10.000000</td>\n",
       "      <td>120.000000</td>\n",
       "      <td>120.000000</td>\n",
       "      <td>7.000000</td>\n",
       "      <td>100.000000</td>\n",
       "      <td>6.00000</td>\n",
       "      <td>5216.000000</td>\n",
       "    </tr>\n",
       "  </tbody>\n",
       "</table>\n",
       "</div>"
      ],
      "text/plain": [
       "                Id  Area(total)       Trooms    Nbedrooms  Nbwashrooms  \\\n",
       "count  3000.000000  3000.000000  3000.000000  3000.000000  3000.000000   \n",
       "mean   1500.500000   325.117000     7.021667     5.023000     4.513667   \n",
       "std     866.169729    20.507742     1.421221     1.634838     1.715263   \n",
       "min       1.000000   290.000000     5.000000     2.000000     1.000000   \n",
       "25%     750.750000   308.000000     6.000000     4.000000     3.000000   \n",
       "50%    1500.500000   325.000000     7.000000     5.000000     4.000000   \n",
       "75%    2250.250000   343.000000     8.000000     6.000000     6.000000   \n",
       "max    3000.000000   360.000000     9.000000     8.000000     8.000000   \n",
       "\n",
       "        Twashrooms   Roof(Area)   Lawn(Area)      Nfloors          API  \\\n",
       "count  3000.000000  3000.000000  3000.000000  3000.000000  3000.000000   \n",
       "mean      6.010667    48.980667    95.609333     4.013333    70.190667   \n",
       "std       1.786136    48.746641    14.837388     1.621532    17.563460   \n",
       "min       2.000000     0.000000    70.000000     1.000000    40.000000   \n",
       "25%       5.000000     0.000000    83.000000     3.000000    55.000000   \n",
       "50%       6.000000    71.000000    96.000000     4.000000    70.000000   \n",
       "75%       7.000000    96.000000   109.000000     5.000000    85.000000   \n",
       "max      10.000000   120.000000   120.000000     7.000000   100.000000   \n",
       "\n",
       "              ANB  Expected price  \n",
       "count  3000.00000     3000.000000  \n",
       "mean      3.47900     3782.938333  \n",
       "std       1.69426      567.189995  \n",
       "min       1.00000     2504.000000  \n",
       "25%       2.00000     3354.000000  \n",
       "50%       4.00000     3771.000000  \n",
       "75%       5.00000     4208.000000  \n",
       "max       6.00000     5216.000000  "
      ]
     },
     "execution_count": 6,
     "metadata": {},
     "output_type": "execute_result"
    }
   ],
   "source": [
    "# Numerical columns\n",
    "df.describe()"
   ]
  },
  {
   "cell_type": "code",
   "execution_count": 7,
   "id": "382a6c4f",
   "metadata": {},
   "outputs": [
    {
     "data": {
      "text/html": [
       "<div>\n",
       "<style scoped>\n",
       "    .dataframe tbody tr th:only-of-type {\n",
       "        vertical-align: middle;\n",
       "    }\n",
       "\n",
       "    .dataframe tbody tr th {\n",
       "        vertical-align: top;\n",
       "    }\n",
       "\n",
       "    .dataframe thead th {\n",
       "        text-align: right;\n",
       "    }\n",
       "</style>\n",
       "<table border=\"1\" class=\"dataframe\">\n",
       "  <thead>\n",
       "    <tr style=\"text-align: right;\">\n",
       "      <th></th>\n",
       "      <th>roof</th>\n",
       "      <th>Grade</th>\n",
       "    </tr>\n",
       "  </thead>\n",
       "  <tbody>\n",
       "    <tr>\n",
       "      <th>count</th>\n",
       "      <td>3000</td>\n",
       "      <td>3000</td>\n",
       "    </tr>\n",
       "    <tr>\n",
       "      <th>unique</th>\n",
       "      <td>2</td>\n",
       "      <td>5</td>\n",
       "    </tr>\n",
       "    <tr>\n",
       "      <th>top</th>\n",
       "      <td>YES</td>\n",
       "      <td>D</td>\n",
       "    </tr>\n",
       "    <tr>\n",
       "      <th>freq</th>\n",
       "      <td>1543</td>\n",
       "      <td>1270</td>\n",
       "    </tr>\n",
       "  </tbody>\n",
       "</table>\n",
       "</div>"
      ],
      "text/plain": [
       "        roof Grade\n",
       "count   3000  3000\n",
       "unique     2     5\n",
       "top      YES     D\n",
       "freq    1543  1270"
      ]
     },
     "execution_count": 7,
     "metadata": {},
     "output_type": "execute_result"
    }
   ],
   "source": [
    "# Categorical columns\n",
    "df.describe(include='object')"
   ]
  },
  {
   "cell_type": "markdown",
   "id": "53c315fe",
   "metadata": {},
   "source": [
    "### DataTypes of Dataset"
   ]
  },
  {
   "cell_type": "code",
   "execution_count": 8,
   "id": "315850b0",
   "metadata": {},
   "outputs": [
    {
     "data": {
      "text/plain": [
       "Id                 int64\n",
       "Area(total)        int64\n",
       "Trooms             int64\n",
       "Nbedrooms          int64\n",
       "Nbwashrooms        int64\n",
       "Twashrooms         int64\n",
       "roof              object\n",
       "Roof(Area)         int64\n",
       "Lawn(Area)         int64\n",
       "Nfloors            int64\n",
       "API                int64\n",
       "ANB                int64\n",
       "Expected price     int64\n",
       "Grade             object\n",
       "dtype: object"
      ]
     },
     "execution_count": 8,
     "metadata": {},
     "output_type": "execute_result"
    }
   ],
   "source": [
    "df.dtypes"
   ]
  },
  {
   "cell_type": "markdown",
   "id": "95492055",
   "metadata": {},
   "source": [
    "### Segregation of Qualitative & Quantitative data"
   ]
  },
  {
   "cell_type": "code",
   "execution_count": 9,
   "id": "a1721325",
   "metadata": {},
   "outputs": [
    {
     "name": "stdout",
     "output_type": "stream",
     "text": [
      "Categorical    Numerical\n",
      "-------------  --------------\n",
      "roof           Id\n",
      "Grade          Area(total)\n",
      "               Trooms\n",
      "               Nbedrooms\n",
      "               Nbwashrooms\n",
      "               Twashrooms\n",
      "               Roof(Area)\n",
      "               Lawn(Area)\n",
      "               Nfloors\n",
      "               API\n",
      "               ANB\n",
      "               Expected price\n"
     ]
    }
   ],
   "source": [
    "a = df.select_dtypes(exclude='object')\n",
    "b = df.select_dtypes(include='object')\n",
    "\n",
    "a_lst = list(a.columns)\n",
    "b_lst = list(b.columns)\n",
    "table = [a_lst,b_lst]\n",
    "\n",
    "print(tabulate({'Categorical':b_lst,\n",
    "                 'Continuous':a_lst}, headers=['Categorical','Numerical']))"
   ]
  },
  {
   "cell_type": "markdown",
   "id": "6240a331",
   "metadata": {},
   "source": [
    "### Checking for missing values"
   ]
  },
  {
   "cell_type": "code",
   "execution_count": 10,
   "id": "0f152e3a",
   "metadata": {},
   "outputs": [
    {
     "data": {
      "text/plain": [
       "Id                0\n",
       "Area(total)       0\n",
       "Trooms            0\n",
       "Nbedrooms         0\n",
       "Nbwashrooms       0\n",
       "Twashrooms        0\n",
       "roof              0\n",
       "Roof(Area)        0\n",
       "Lawn(Area)        0\n",
       "Nfloors           0\n",
       "API               0\n",
       "ANB               0\n",
       "Expected price    0\n",
       "Grade             0\n",
       "dtype: int64"
      ]
     },
     "execution_count": 10,
     "metadata": {},
     "output_type": "execute_result"
    }
   ],
   "source": [
    "df.isna().sum()"
   ]
  },
  {
   "cell_type": "markdown",
   "id": "cf860445",
   "metadata": {},
   "source": [
    "***There are no missing values in the dataset.***"
   ]
  },
  {
   "cell_type": "markdown",
   "id": "9dff8a45",
   "metadata": {},
   "source": [
    "## Visualizations"
   ]
  },
  {
   "cell_type": "markdown",
   "id": "9bcb2d32",
   "metadata": {},
   "source": [
    "### House Availability Gradewise"
   ]
  },
  {
   "cell_type": "code",
   "execution_count": 11,
   "id": "7dd38278",
   "metadata": {},
   "outputs": [
    {
     "data": {
      "image/png": "[encoded data removed]",
      "text/plain": [
       "<Figure size 720x504 with 1 Axes>"
      ]
     },
     "metadata": {
      "needs_background": "light"
     },
     "output_type": "display_data"
    }
   ],
   "source": [
    "plt.figure(figsize=(10,7))\n",
    "sb.countplot(df['Grade'],palette='winter')\n",
    "plt.title('Availability of Houses per Grade',fontsize=20)\n",
    "plt.show()"
   ]
  },
  {
   "cell_type": "markdown",
   "id": "caf07d1d",
   "metadata": {},
   "source": [
    "**Interpretation**:\n",
    "- Availability of D grade houses are more compared to the other grades.\n",
    "- Availability of E grade houses are the least."
   ]
  },
  {
   "cell_type": "markdown",
   "id": "43da286a",
   "metadata": {},
   "source": [
    "### Availability of Houses with roof"
   ]
  },
  {
   "cell_type": "code",
   "execution_count": 12,
   "id": "b94a35f8",
   "metadata": {},
   "outputs": [
    {
     "data": {
      "image/png": "[encoded data removed]",
      "text/plain": [
       "<Figure size 720x504 with 1 Axes>"
      ]
     },
     "metadata": {
      "needs_background": "light"
     },
     "output_type": "display_data"
    }
   ],
   "source": [
    "plt.figure(figsize=(10,7))\n",
    "sb.countplot(df['Grade'],hue=df['roof'],palette='winter')\n",
    "plt.title('Availability of Houses with roof',fontsize=20)\n",
    "plt.show()"
   ]
  },
  {
   "cell_type": "markdown",
   "id": "e2da2575",
   "metadata": {},
   "source": [
    "**Interpretation**:\n",
    "- Grade D has more no. of houses with roof compared to other grades eventhough houses with no roof is higher in that grade.\n",
    "- Least houses with roof are in grade E."
   ]
  },
  {
   "cell_type": "markdown",
   "id": "94f8f2ea",
   "metadata": {},
   "source": [
    "### Average Room Availability"
   ]
  },
  {
   "cell_type": "code",
   "execution_count": 13,
   "id": "a184d5c2",
   "metadata": {},
   "outputs": [
    {
     "data": {
      "image/png": "[encoded data removed]",
      "text/plain": [
       "<Figure size 720x504 with 1 Axes>"
      ]
     },
     "metadata": {
      "needs_background": "light"
     },
     "output_type": "display_data"
    }
   ],
   "source": [
    "plt.figure(figsize=(10,7))\n",
    "sb.barplot(x=df['Grade'],y=df['Trooms'],ci=None,palette='winter')\n",
    "plt.title('Average Room Availability per Grade',fontsize=20)\n",
    "plt.show()"
   ]
  },
  {
   "cell_type": "markdown",
   "id": "853769f1",
   "metadata": {},
   "source": [
    "**Interpretation**: Average availability of rooms in A grade houses are more and E grade houses are less compared to other grades."
   ]
  },
  {
   "cell_type": "markdown",
   "id": "e92a2d49",
   "metadata": {},
   "source": [
    "### Area Distribution"
   ]
  },
  {
   "cell_type": "code",
   "execution_count": 14,
   "id": "a029c92e",
   "metadata": {},
   "outputs": [
    {
     "data": {
      "image/png": "[encoded data removed]",
      "text/plain": [
       "<Figure size 432x288 with 1 Axes>"
      ]
     },
     "metadata": {
      "needs_background": "light"
     },
     "output_type": "display_data"
    }
   ],
   "source": [
    "sb.boxplot(df['Area(total)'])\n",
    "plt.title('Area Distribution',fontsize=15)\n",
    "plt.show()"
   ]
  },
  {
   "cell_type": "markdown",
   "id": "2244e01d",
   "metadata": {},
   "source": [
    "**Interpretation**: Most houses are of area between 310 to 340."
   ]
  },
  {
   "cell_type": "markdown",
   "id": "aac628c1",
   "metadata": {},
   "source": [
    "### Price Distribution"
   ]
  },
  {
   "cell_type": "code",
   "execution_count": 15,
   "id": "dcfa6eab",
   "metadata": {},
   "outputs": [
    {
     "data": {
      "image/png": "[encoded data removed]",
      "text/plain": [
       "<Figure size 432x288 with 1 Axes>"
      ]
     },
     "metadata": {
      "needs_background": "light"
     },
     "output_type": "display_data"
    }
   ],
   "source": [
    "sb.boxplot(df['Expected price'])\n",
    "plt.title('Distribution of Expected Price',fontsize=15)\n",
    "plt.show()"
   ]
  },
  {
   "cell_type": "markdown",
   "id": "1d568ae0",
   "metadata": {},
   "source": [
    "**Interpretation**: Most houses are of priced between 3400 to 4200."
   ]
  },
  {
   "cell_type": "markdown",
   "id": "d27a9516",
   "metadata": {},
   "source": [
    "### Detailed overview of facilities of each grade"
   ]
  },
  {
   "cell_type": "code",
   "execution_count": 16,
   "id": "70c728b2",
   "metadata": {},
   "outputs": [
    {
     "data": {
      "text/html": [
       "<div>\n",
       "<style scoped>\n",
       "    .dataframe tbody tr th:only-of-type {\n",
       "        vertical-align: middle;\n",
       "    }\n",
       "\n",
       "    .dataframe tbody tr th {\n",
       "        vertical-align: top;\n",
       "    }\n",
       "\n",
       "    .dataframe thead th {\n",
       "        text-align: right;\n",
       "    }\n",
       "</style>\n",
       "<table border=\"1\" class=\"dataframe\">\n",
       "  <thead>\n",
       "    <tr style=\"text-align: right;\">\n",
       "      <th></th>\n",
       "      <th>ANB</th>\n",
       "      <th>API</th>\n",
       "      <th>Area(total)</th>\n",
       "      <th>Expected price</th>\n",
       "      <th>Lawn(Area)</th>\n",
       "      <th>Nbedrooms</th>\n",
       "      <th>Nbwashrooms</th>\n",
       "      <th>Nfloors</th>\n",
       "      <th>Roof(Area)</th>\n",
       "      <th>Trooms</th>\n",
       "      <th>Twashrooms</th>\n",
       "    </tr>\n",
       "    <tr>\n",
       "      <th>Grade</th>\n",
       "      <th></th>\n",
       "      <th></th>\n",
       "      <th></th>\n",
       "      <th></th>\n",
       "      <th></th>\n",
       "      <th></th>\n",
       "      <th></th>\n",
       "      <th></th>\n",
       "      <th></th>\n",
       "      <th></th>\n",
       "      <th></th>\n",
       "    </tr>\n",
       "  </thead>\n",
       "  <tbody>\n",
       "    <tr>\n",
       "      <th>A</th>\n",
       "      <td>4.0</td>\n",
       "      <td>72.0</td>\n",
       "      <td>330.0</td>\n",
       "      <td>4457.0</td>\n",
       "      <td>97.0</td>\n",
       "      <td>7.0</td>\n",
       "      <td>7.0</td>\n",
       "      <td>6.0</td>\n",
       "      <td>62.0</td>\n",
       "      <td>9.0</td>\n",
       "      <td>9.0</td>\n",
       "    </tr>\n",
       "    <tr>\n",
       "      <th>B</th>\n",
       "      <td>3.0</td>\n",
       "      <td>72.0</td>\n",
       "      <td>327.0</td>\n",
       "      <td>4247.0</td>\n",
       "      <td>96.0</td>\n",
       "      <td>6.0</td>\n",
       "      <td>6.0</td>\n",
       "      <td>5.0</td>\n",
       "      <td>54.0</td>\n",
       "      <td>8.0</td>\n",
       "      <td>7.0</td>\n",
       "    </tr>\n",
       "    <tr>\n",
       "      <th>C</th>\n",
       "      <td>4.0</td>\n",
       "      <td>72.0</td>\n",
       "      <td>329.0</td>\n",
       "      <td>3887.0</td>\n",
       "      <td>97.0</td>\n",
       "      <td>5.0</td>\n",
       "      <td>5.0</td>\n",
       "      <td>4.0</td>\n",
       "      <td>54.0</td>\n",
       "      <td>7.0</td>\n",
       "      <td>6.0</td>\n",
       "    </tr>\n",
       "    <tr>\n",
       "      <th>D</th>\n",
       "      <td>3.0</td>\n",
       "      <td>69.0</td>\n",
       "      <td>322.0</td>\n",
       "      <td>3360.0</td>\n",
       "      <td>95.0</td>\n",
       "      <td>4.0</td>\n",
       "      <td>3.0</td>\n",
       "      <td>3.0</td>\n",
       "      <td>43.0</td>\n",
       "      <td>6.0</td>\n",
       "      <td>5.0</td>\n",
       "    </tr>\n",
       "    <tr>\n",
       "      <th>E</th>\n",
       "      <td>3.0</td>\n",
       "      <td>55.0</td>\n",
       "      <td>305.0</td>\n",
       "      <td>3031.0</td>\n",
       "      <td>88.0</td>\n",
       "      <td>3.0</td>\n",
       "      <td>2.0</td>\n",
       "      <td>2.0</td>\n",
       "      <td>8.0</td>\n",
       "      <td>5.0</td>\n",
       "      <td>3.0</td>\n",
       "    </tr>\n",
       "  </tbody>\n",
       "</table>\n",
       "</div>"
      ],
      "text/plain": [
       "       ANB   API  Area(total)  Expected price  Lawn(Area)  Nbedrooms  \\\n",
       "Grade                                                                  \n",
       "A      4.0  72.0        330.0          4457.0        97.0        7.0   \n",
       "B      3.0  72.0        327.0          4247.0        96.0        6.0   \n",
       "C      4.0  72.0        329.0          3887.0        97.0        5.0   \n",
       "D      3.0  69.0        322.0          3360.0        95.0        4.0   \n",
       "E      3.0  55.0        305.0          3031.0        88.0        3.0   \n",
       "\n",
       "       Nbwashrooms  Nfloors  Roof(Area)  Trooms  Twashrooms  \n",
       "Grade                                                        \n",
       "A              7.0      6.0        62.0     9.0         9.0  \n",
       "B              6.0      5.0        54.0     8.0         7.0  \n",
       "C              5.0      4.0        54.0     7.0         6.0  \n",
       "D              3.0      3.0        43.0     6.0         5.0  \n",
       "E              2.0      2.0         8.0     5.0         3.0  "
      ]
     },
     "execution_count": 16,
     "metadata": {},
     "output_type": "execute_result"
    }
   ],
   "source": [
    "pt = df.pivot_table(values=['Area(total)','Trooms','Nbedrooms','Nbwashrooms','Twashrooms','Roof(Area)','Lawn(Area)','Nfloors','API','ANB','Expected price'],\n",
    "              index='Grade',aggfunc='mean')\n",
    "\n",
    "np.round(pt)"
   ]
  },
  {
   "cell_type": "markdown",
   "id": "9308b8bd",
   "metadata": {},
   "source": [
    "**Interpretation**:\n",
    "- Houses of Grade A has Area of about 330 , expected price of about 4457 with 7 Nbedrooms, 7 Nbwashrooms,6 Nfloors, 9 Trooms ,9 Twashrooms and roof area of about 62\n",
    "- Houses of Grade B has Area of about 327 , expected price of about 4247 with 6 Nbedrooms, 6 Nbwashrooms,5 Nfloors, 8 Trooms ,7 Twashrooms and roof area of about 54\n",
    "- Houses of Grade C has Area of about 329 , expected price of about 3887 with 5 Nbedrooms, 5 Nbwashrooms,4 Nfloors, 7 Trooms ,6 Twashrooms and roof area of about 54\n",
    "- Houses of Grade D has Area of about 322 , expected price of about 3360 with 4 Nbedrooms, 3 Nbwashrooms,3 Nfloors, 6 Trooms ,5 Twashrooms and roof area of about 43\n",
    "- Houses of Grade E has Area of about 305 , expected price of about 3031 with 3 Nbedrooms, 2 Nbwashrooms,2 Nfloors, 5 Trooms ,3 Twashrooms and roof area of about 8"
   ]
  },
  {
   "cell_type": "markdown",
   "id": "96ce11d1",
   "metadata": {},
   "source": [
    "### Converting Non Numeric to Categorical & Label Encoding"
   ]
  },
  {
   "cell_type": "code",
   "execution_count": 17,
   "id": "d3d360f2",
   "metadata": {},
   "outputs": [
    {
     "data": {
      "text/html": [
       "<div>\n",
       "<style scoped>\n",
       "    .dataframe tbody tr th:only-of-type {\n",
       "        vertical-align: middle;\n",
       "    }\n",
       "\n",
       "    .dataframe tbody tr th {\n",
       "        vertical-align: top;\n",
       "    }\n",
       "\n",
       "    .dataframe thead th {\n",
       "        text-align: right;\n",
       "    }\n",
       "</style>\n",
       "<table border=\"1\" class=\"dataframe\">\n",
       "  <thead>\n",
       "    <tr style=\"text-align: right;\">\n",
       "      <th></th>\n",
       "      <th>Id</th>\n",
       "      <th>Area(total)</th>\n",
       "      <th>Trooms</th>\n",
       "      <th>Nbedrooms</th>\n",
       "      <th>Nbwashrooms</th>\n",
       "      <th>Twashrooms</th>\n",
       "      <th>roof</th>\n",
       "      <th>Roof(Area)</th>\n",
       "      <th>Lawn(Area)</th>\n",
       "      <th>Nfloors</th>\n",
       "      <th>API</th>\n",
       "      <th>ANB</th>\n",
       "      <th>Expected price</th>\n",
       "      <th>Grade</th>\n",
       "      <th>roof_encode</th>\n",
       "      <th>Grade_encode</th>\n",
       "    </tr>\n",
       "  </thead>\n",
       "  <tbody>\n",
       "    <tr>\n",
       "      <th>0</th>\n",
       "      <td>1</td>\n",
       "      <td>339</td>\n",
       "      <td>6</td>\n",
       "      <td>5</td>\n",
       "      <td>4</td>\n",
       "      <td>6</td>\n",
       "      <td>NO</td>\n",
       "      <td>0</td>\n",
       "      <td>76</td>\n",
       "      <td>2</td>\n",
       "      <td>79</td>\n",
       "      <td>6</td>\n",
       "      <td>3481</td>\n",
       "      <td>D</td>\n",
       "      <td>0</td>\n",
       "      <td>3</td>\n",
       "    </tr>\n",
       "    <tr>\n",
       "      <th>1</th>\n",
       "      <td>2</td>\n",
       "      <td>358</td>\n",
       "      <td>5</td>\n",
       "      <td>4</td>\n",
       "      <td>3</td>\n",
       "      <td>4</td>\n",
       "      <td>YES</td>\n",
       "      <td>71</td>\n",
       "      <td>96</td>\n",
       "      <td>3</td>\n",
       "      <td>72</td>\n",
       "      <td>4</td>\n",
       "      <td>3510</td>\n",
       "      <td>D</td>\n",
       "      <td>1</td>\n",
       "      <td>3</td>\n",
       "    </tr>\n",
       "    <tr>\n",
       "      <th>2</th>\n",
       "      <td>3</td>\n",
       "      <td>324</td>\n",
       "      <td>7</td>\n",
       "      <td>5</td>\n",
       "      <td>4</td>\n",
       "      <td>5</td>\n",
       "      <td>YES</td>\n",
       "      <td>101</td>\n",
       "      <td>117</td>\n",
       "      <td>5</td>\n",
       "      <td>64</td>\n",
       "      <td>3</td>\n",
       "      <td>3748</td>\n",
       "      <td>C</td>\n",
       "      <td>1</td>\n",
       "      <td>2</td>\n",
       "    </tr>\n",
       "    <tr>\n",
       "      <th>3</th>\n",
       "      <td>4</td>\n",
       "      <td>330</td>\n",
       "      <td>6</td>\n",
       "      <td>4</td>\n",
       "      <td>3</td>\n",
       "      <td>5</td>\n",
       "      <td>YES</td>\n",
       "      <td>101</td>\n",
       "      <td>82</td>\n",
       "      <td>2</td>\n",
       "      <td>59</td>\n",
       "      <td>2</td>\n",
       "      <td>3134</td>\n",
       "      <td>D</td>\n",
       "      <td>1</td>\n",
       "      <td>3</td>\n",
       "    </tr>\n",
       "    <tr>\n",
       "      <th>4</th>\n",
       "      <td>5</td>\n",
       "      <td>320</td>\n",
       "      <td>7</td>\n",
       "      <td>4</td>\n",
       "      <td>4</td>\n",
       "      <td>5</td>\n",
       "      <td>NO</td>\n",
       "      <td>0</td>\n",
       "      <td>75</td>\n",
       "      <td>3</td>\n",
       "      <td>40</td>\n",
       "      <td>1</td>\n",
       "      <td>3843</td>\n",
       "      <td>D</td>\n",
       "      <td>0</td>\n",
       "      <td>3</td>\n",
       "    </tr>\n",
       "  </tbody>\n",
       "</table>\n",
       "</div>"
      ],
      "text/plain": [
       "   Id  Area(total)  Trooms  Nbedrooms  Nbwashrooms  Twashrooms roof  \\\n",
       "0   1          339       6          5            4           6   NO   \n",
       "1   2          358       5          4            3           4  YES   \n",
       "2   3          324       7          5            4           5  YES   \n",
       "3   4          330       6          4            3           5  YES   \n",
       "4   5          320       7          4            4           5   NO   \n",
       "\n",
       "   Roof(Area)  Lawn(Area)  Nfloors  API  ANB  Expected price Grade  \\\n",
       "0           0          76        2   79    6            3481     D   \n",
       "1          71          96        3   72    4            3510     D   \n",
       "2         101         117        5   64    3            3748     C   \n",
       "3         101          82        2   59    2            3134     D   \n",
       "4           0          75        3   40    1            3843     D   \n",
       "\n",
       "   roof_encode  Grade_encode  \n",
       "0            0             3  \n",
       "1            1             3  \n",
       "2            1             2  \n",
       "3            1             3  \n",
       "4            0             3  "
      ]
     },
     "execution_count": 17,
     "metadata": {},
     "output_type": "execute_result"
    }
   ],
   "source": [
    "data = df.select_dtypes(include='object')\n",
    "label_encoder = preprocessing.LabelEncoder()\n",
    "\n",
    "for col in data.columns:\n",
    "    df[col] = df[col].astype('category')\n",
    "    df[col+'_encode'] = label_encoder.fit_transform(df[col])\n",
    "    \n",
    "df.head()"
   ]
  },
  {
   "cell_type": "markdown",
   "id": "9d61d277",
   "metadata": {},
   "source": [
    "***The non numeric columns are converted to categorical dtype and label encoded with label encoder.***"
   ]
  },
  {
   "cell_type": "markdown",
   "id": "2cb482f0",
   "metadata": {},
   "source": [
    "### Feature Selection"
   ]
  },
  {
   "cell_type": "code",
   "execution_count": 18,
   "id": "8e055fd2",
   "metadata": {},
   "outputs": [
    {
     "data": {
      "text/plain": [
       "<AxesSubplot:>"
      ]
     },
     "execution_count": 18,
     "metadata": {},
     "output_type": "execute_result"
    },
    {
     "data": {
      "image/png": "[encoded data removed]",
      "text/plain": [
       "<Figure size 1080x360 with 2 Axes>"
      ]
     },
     "metadata": {
      "needs_background": "light"
     },
     "output_type": "display_data"
    }
   ],
   "source": [
    "cor = df.corr()\n",
    "plt.figure(figsize=(15,5))\n",
    "sb.heatmap(cor,annot=True)"
   ]
  },
  {
   "cell_type": "code",
   "execution_count": 19,
   "id": "598b412f",
   "metadata": {},
   "outputs": [
    {
     "data": {
      "text/plain": [
       "Grade_encode      1.000000\n",
       "Trooms            0.875145\n",
       "Nbedrooms         0.865389\n",
       "Nbwashrooms       0.847319\n",
       "Twashrooms        0.819280\n",
       "Nfloors           0.787623\n",
       "Expected price    0.760820\n",
       "Area(total)       0.177332\n",
       "Roof(Area)        0.170259\n",
       "roof_encode       0.166635\n",
       "API               0.099000\n",
       "Lawn(Area)        0.051200\n",
       "ANB               0.024025\n",
       "Id                0.006074\n",
       "Name: Grade_encode, dtype: float64"
      ]
     },
     "execution_count": 19,
     "metadata": {},
     "output_type": "execute_result"
    }
   ],
   "source": [
    "cor = abs(df.corr())\n",
    "cor['Grade_encode'].sort_values(ascending=False)"
   ]
  },
  {
   "cell_type": "markdown",
   "id": "5e346eee",
   "metadata": {},
   "source": [
    "**Interpretation**: On considering the correlation with the target column Trooms, Nbedrooms,Nbwashrooms, Twashrooms, Nfloors, Expected price, Area(total),Roof(Area) and roof_encode have a good correlation."
   ]
  },
  {
   "cell_type": "markdown",
   "id": "47ab521d",
   "metadata": {},
   "source": [
    "### Data Splitting"
   ]
  },
  {
   "cell_type": "code",
   "execution_count": 20,
   "id": "ca24c70e",
   "metadata": {},
   "outputs": [],
   "source": [
    "X = df[['Trooms','Nbedrooms','Nbwashrooms','Twashrooms','Nfloors','Expected price','Area(total)','Roof(Area)','roof_encode']]\n",
    "y = df['Grade_encode']\n",
    "\n",
    "X_train,X_test,y_train,y_test = train_test_split(X,y,test_size=0.30,random_state=100)"
   ]
  },
  {
   "cell_type": "code",
   "execution_count": 21,
   "id": "c027c7e6",
   "metadata": {},
   "outputs": [
    {
     "name": "stdout",
     "output_type": "stream",
     "text": [
      "X_train : (2100, 9)\n",
      "X_test  : (900, 9)\n",
      "y_train : (2100,)\n",
      "y_test  : (900,)\n"
     ]
    }
   ],
   "source": [
    "print('X_train :',X_train.shape)\n",
    "print('X_test  :',X_test.shape)\n",
    "print('y_train :',y_train.shape)\n",
    "print('y_test  :',y_test.shape)"
   ]
  },
  {
   "cell_type": "markdown",
   "id": "b200443a",
   "metadata": {},
   "source": [
    "**Data is splitted using train_test_split method at the ratio of 70:30**"
   ]
  },
  {
   "cell_type": "markdown",
   "id": "e79709dd",
   "metadata": {},
   "source": [
    "### Data Scaling"
   ]
  },
  {
   "cell_type": "code",
   "execution_count": 22,
   "id": "02697b2c",
   "metadata": {},
   "outputs": [],
   "source": [
    "data = df.drop(columns=['roof_encode','Grade_encode','roof','Grade'])\n",
    "data.head()\n",
    "\n",
    "scaler = StandardScaler()\n",
    "X_train = pd.DataFrame(scaler.fit_transform(X_train.to_numpy()),columns=X_train.columns)\n",
    "X_test = scaler.transform(X_test.to_numpy())"
   ]
  },
  {
   "cell_type": "markdown",
   "id": "7eccddf2",
   "metadata": {},
   "source": [
    "***The numerical data are scaled using MinMaxScaler.***"
   ]
  },
  {
   "cell_type": "markdown",
   "id": "4595aadc",
   "metadata": {},
   "source": [
    "# CLASSIFICATION MODELS"
   ]
  },
  {
   "cell_type": "markdown",
   "id": "680d52e4",
   "metadata": {},
   "source": [
    "## Naive Bayes "
   ]
  },
  {
   "cell_type": "markdown",
   "id": "ce4ca0bd",
   "metadata": {},
   "source": [
    "### Model Building"
   ]
  },
  {
   "cell_type": "code",
   "execution_count": 23,
   "id": "580b65a1",
   "metadata": {},
   "outputs": [],
   "source": [
    "nv = GaussianNB()"
   ]
  },
  {
   "cell_type": "markdown",
   "id": "43e55916",
   "metadata": {},
   "source": [
    "### Model fitting"
   ]
  },
  {
   "cell_type": "code",
   "execution_count": 24,
   "id": "10d9d637",
   "metadata": {},
   "outputs": [
    {
     "data": {
      "text/plain": [
       "GaussianNB()"
      ]
     },
     "execution_count": 24,
     "metadata": {},
     "output_type": "execute_result"
    }
   ],
   "source": [
    "nv.fit(X_train,y_train)"
   ]
  },
  {
   "cell_type": "markdown",
   "id": "f7d98a61",
   "metadata": {},
   "source": [
    "### Predictions"
   ]
  },
  {
   "cell_type": "code",
   "execution_count": 25,
   "id": "749e000b",
   "metadata": {},
   "outputs": [
    {
     "data": {
      "text/plain": [
       "array([3, 3, 2, 3, 2, 2, 3, 2, 3, 1, 1, 3, 2, 1, 3, 3, 0, 2, 2, 0, 3, 3,\n",
       "       2, 2, 1, 2, 3, 0, 2, 3, 3, 2, 2, 3, 0, 1, 3, 1, 3, 3, 4, 1, 1, 2,\n",
       "       3, 3, 2, 2, 2, 2, 0, 2, 0, 1, 3, 1, 3, 3, 3, 0, 2, 3, 1, 2, 2, 2,\n",
       "       3, 3, 3, 2, 3, 1, 2, 3, 3, 4, 0, 3, 2, 3, 3, 3, 4, 3, 2, 1, 0, 0,\n",
       "       3, 0, 1, 3, 2, 1, 2, 4, 3, 2, 3, 3, 2, 3, 2, 3, 1, 0, 2, 2, 3, 0,\n",
       "       3, 3, 0, 1, 1, 2, 3, 2, 3, 3, 3, 3, 0, 4, 1, 3, 3, 3, 1, 3, 4, 3,\n",
       "       2, 1, 1, 0, 3, 0, 1, 3, 3, 1, 2, 1, 3, 3, 1, 3, 2, 1, 3, 1, 2, 2,\n",
       "       1, 1, 3, 0, 3, 3, 3, 0, 2, 1, 0, 1, 3, 3, 1, 3, 2, 0, 2, 3, 2, 0,\n",
       "       0, 2, 1, 2, 3, 0, 0, 3, 3, 2, 2, 3, 2, 3, 3, 0, 3, 0, 3, 3, 2, 0,\n",
       "       3, 3, 3, 1, 3, 0, 3, 3, 1, 3, 2, 1, 1, 2, 3, 3, 2, 1, 2, 3, 0, 3,\n",
       "       2, 3, 0, 3, 4, 3, 3, 3, 1, 3, 1, 1, 2, 2, 3, 0, 2, 3, 0, 2, 2, 3,\n",
       "       3, 1, 2, 2, 3, 3, 3, 1, 3, 0, 2, 3, 3, 2, 2, 2, 1, 1, 3, 3, 3, 1,\n",
       "       2, 2, 1, 3, 1, 0, 3, 2, 4, 3, 2, 3, 3, 3, 3, 1, 3, 2, 3, 1, 2, 0,\n",
       "       3, 3, 3, 2, 1, 2, 3, 2, 1, 1, 2, 0, 2, 1, 3, 3, 3, 0, 3, 3, 2, 1,\n",
       "       1, 2, 3, 3, 1, 3, 2, 0, 2, 2, 2, 1, 1, 3, 3, 3, 2, 1, 1, 2, 3, 3,\n",
       "       2, 1, 0, 3, 1, 3, 3, 2, 2, 2, 2, 3, 3, 2, 3, 1, 3, 4, 2, 2, 2, 2,\n",
       "       1, 2, 2, 2, 1, 2, 0, 3, 3, 3, 1, 1, 2, 2, 3, 3, 2, 3, 2, 3, 3, 3,\n",
       "       3, 1, 2, 3, 1, 0, 0, 1, 3, 3, 1, 2, 3, 3, 3, 3, 3, 2, 1, 2, 1, 2,\n",
       "       3, 2, 3, 0, 3, 3, 2, 2, 0, 4, 2, 0, 3, 2, 3, 1, 0, 3, 3, 0, 3, 2,\n",
       "       2, 1, 2, 1, 3, 3, 1, 2, 0, 3, 3, 0, 3, 3, 2, 2, 0, 1, 0, 1, 1, 2,\n",
       "       2, 0, 2, 3, 3, 2, 2, 3, 1, 1, 3, 1, 2, 3, 3, 0, 1, 2, 2, 3, 3, 3,\n",
       "       3, 0, 1, 1, 3, 3, 1, 3, 4, 2, 0, 1, 2, 0, 3, 3, 3, 1, 2, 3, 2, 4,\n",
       "       3, 3, 2, 2, 3, 3, 3, 1, 0, 2, 3, 2, 1, 0, 0, 3, 3, 3, 3, 3, 3, 3,\n",
       "       3, 1, 0, 2, 3, 4, 3, 3, 0, 2, 2, 1, 0, 0, 3, 3, 3, 2, 0, 3, 3, 2,\n",
       "       3, 2, 3, 3, 2, 3, 2, 2, 1, 0, 2, 1, 3, 2, 3, 1, 4, 1, 3, 1, 3, 0,\n",
       "       2, 3, 0, 2, 3, 2, 3, 3, 3, 0, 0, 3, 0, 1, 3, 0, 3, 3, 1, 3, 2, 3,\n",
       "       1, 0, 1, 1, 3, 2, 3, 3, 1, 2, 3, 1, 3, 1, 3, 3, 1, 3, 1, 3, 1, 3,\n",
       "       1, 3, 1, 3, 3, 0, 2, 3, 1, 3, 1, 3, 3, 3, 0, 3, 4, 3, 2, 1, 3, 0,\n",
       "       2, 3, 1, 1, 2, 4, 1, 1, 3, 3, 2, 1, 2, 2, 2, 1, 0, 3, 2, 1, 0, 2,\n",
       "       3, 1, 1, 3, 1, 1, 3, 3, 1, 0, 3, 3, 1, 3, 2, 0, 0, 1, 4, 3, 3, 2,\n",
       "       2, 3, 3, 2, 1, 3, 3, 2, 0, 3, 1, 0, 1, 1, 1, 3, 3, 3, 3, 1, 2, 2,\n",
       "       0, 2, 0, 2, 4, 3, 1, 3, 1, 3, 3, 4, 3, 3, 2, 1, 2, 3, 3, 3, 3, 0,\n",
       "       3, 3, 3, 2, 3, 1, 1, 2, 1, 2, 2, 2, 2, 4, 0, 3, 3, 3, 3, 3, 0, 2,\n",
       "       3, 0, 1, 2, 3, 4, 0, 3, 1, 0, 0, 0, 2, 2, 3, 3, 1, 0, 0, 3, 3, 2,\n",
       "       3, 1, 0, 0, 1, 3, 2, 0, 3, 3, 2, 2, 1, 3, 3, 3, 3, 0, 2, 0, 0, 4,\n",
       "       1, 3, 3, 1, 3, 3, 3, 1, 4, 1, 0, 1, 3, 3, 2, 3, 3, 4, 2, 3, 0, 0,\n",
       "       0, 1, 3, 2, 3, 3, 0, 0, 3, 2, 3, 4, 2, 2, 3, 3, 3, 3, 0, 3, 3, 1,\n",
       "       1, 3, 1, 1, 3, 2, 1, 2, 0, 1, 1, 2, 0, 2, 1, 0, 2, 2, 2, 0, 3, 2,\n",
       "       1, 0, 1, 3, 1, 2, 1, 3, 1, 0, 3, 1, 3, 1, 2, 4, 3, 3, 3, 3, 2, 1,\n",
       "       1, 3, 1, 0, 0, 2, 0, 1, 1, 3, 1, 0, 2, 1, 4, 2, 1, 0, 0, 1, 0, 3,\n",
       "       1, 1, 1, 2, 1, 0, 0, 3, 1, 2, 0, 3, 3, 1, 3, 3, 1, 4, 3, 2])"
      ]
     },
     "execution_count": 25,
     "metadata": {},
     "output_type": "execute_result"
    }
   ],
   "source": [
    "nv_pred = nv.predict(X_test)\n",
    "nv_pred"
   ]
  },
  {
   "cell_type": "markdown",
   "id": "71364b9b",
   "metadata": {},
   "source": [
    "### Performance Check"
   ]
  },
  {
   "cell_type": "code",
   "execution_count": 26,
   "id": "955302f8",
   "metadata": {},
   "outputs": [
    {
     "name": "stdout",
     "output_type": "stream",
     "text": [
      "Performance of Training dataset: 80.0 %\n",
      "Performance of Testing dataset : 79.0 %\n"
     ]
    }
   ],
   "source": [
    "# Performance of training data and testing data\n",
    "nv_train = nv.score(X_train,y_train)\n",
    "nv_test = nv.score(X_test,y_test)\n",
    "\n",
    "print(f'Performance of Training dataset: {np.round(nv_train*100)} %')\n",
    "print(f'Performance of Testing dataset : {np.round(nv_test*100)} %')"
   ]
  },
  {
   "cell_type": "markdown",
   "id": "2ff81ff6",
   "metadata": {},
   "source": [
    "### Evaluation Metrics"
   ]
  },
  {
   "cell_type": "code",
   "execution_count": 27,
   "id": "c6f0404a",
   "metadata": {},
   "outputs": [
    {
     "name": "stdout",
     "output_type": "stream",
     "text": [
      "[[107  22   0   0   0]\n",
      " [ 17 133  24   0   0]\n",
      " [  0  30 141  31   0]\n",
      " [  0   0  47 312  14]\n",
      " [  0   0   0   8  14]]\n"
     ]
    }
   ],
   "source": [
    "# Confusion Matrix\n",
    "print(confusion_matrix(y_test,nv_pred))\n"
   ]
  },
  {
   "cell_type": "code",
   "execution_count": 28,
   "id": "a945c1be",
   "metadata": {},
   "outputs": [
    {
     "name": "stdout",
     "output_type": "stream",
     "text": [
      "accuracy  : 79.0 %\n",
      "recall    : 79.0 %\n",
      "f1-score  : 79.0 %\n",
      "precision : 79.0 %\n"
     ]
    }
   ],
   "source": [
    "nv_accuracy = np.round(accuracy_score(y_test, nv_pred)*100)\n",
    "nv_recall = np.round(recall_score(y_test, nv_pred,average='weighted')*100)\n",
    "nv_f1_score = np.round(f1_score(y_test, nv_pred,average='weighted')*100)\n",
    "nv_precision = np.round(precision_score(y_test, nv_pred,average='weighted')*100)\n",
    "\n",
    "print(f'accuracy  : {nv_accuracy} %')\n",
    "print(f'recall    : {nv_recall} %')\n",
    "print(f'f1-score  : {nv_f1_score} %')\n",
    "print(f'precision : {nv_precision} %')"
   ]
  },
  {
   "cell_type": "markdown",
   "id": "0e5bab99",
   "metadata": {},
   "source": [
    "### Evaluation Metrics with KFold split"
   ]
  },
  {
   "cell_type": "code",
   "execution_count": 29,
   "id": "61863493",
   "metadata": {},
   "outputs": [
    {
     "name": "stdout",
     "output_type": "stream",
     "text": [
      "Accuracy  : 79.0 %\n",
      "Precision : 81.0 %\n",
      "Recall    : 79.0 %\n",
      "f1        : 80.0 %\n"
     ]
    }
   ],
   "source": [
    "# Kfold Splitting\n",
    "\n",
    "cv = KFold(n_splits=4,shuffle=True,random_state=100)\n",
    "scoring = ['accuracy','precision_weighted','recall_weighted','f1_weighted']\n",
    "n_scores = cross_validate(nv, X, y, scoring=scoring, cv=cv, n_jobs=-1, error_score='raise')\n",
    "\n",
    "nv_kaccuracy = np.round(n_scores['test_accuracy'].mean()*100)\n",
    "nv_kprecision = np.round(n_scores['test_precision_weighted'].mean()*100)\n",
    "nv_krecall = np.round(n_scores['test_recall_weighted'].mean()*100)\n",
    "nv_kf1 = np.round(n_scores['test_f1_weighted'].mean()*100)\n",
    "\n",
    "print(f'Accuracy  : {nv_kaccuracy} %')\n",
    "print(f'Precision : {nv_kprecision} %')\n",
    "print(f'Recall    : {nv_krecall} %')\n",
    "print(f'f1        : {nv_kf1} %')"
   ]
  },
  {
   "cell_type": "markdown",
   "id": "83fd309e",
   "metadata": {},
   "source": [
    "### Evaluation Metrics with Reapeated Stratified KFold splits"
   ]
  },
  {
   "cell_type": "code",
   "execution_count": 30,
   "id": "e2d6b2e0",
   "metadata": {},
   "outputs": [
    {
     "name": "stdout",
     "output_type": "stream",
     "text": [
      "Accuracy  : 80.0 %\n",
      "Precision : 81.0 %\n",
      "Recall    : 80.0 %\n",
      "f1        : 80.0 %\n"
     ]
    }
   ],
   "source": [
    "# RepeatedStratifiedKfold Splitting\n",
    "\n",
    "cv2 = RepeatedStratifiedKFold(n_splits=4,n_repeats=4,random_state=100)\n",
    "scoring = ['accuracy','precision_weighted','recall_weighted','f1_weighted']\n",
    "n_scores = cross_validate(nv, X, y, scoring=scoring, cv=cv2, n_jobs=-1, error_score='raise')\n",
    "\n",
    "nv_rsaccuracy = np.round(n_scores['test_accuracy'].mean()*100)\n",
    "nv_rsprecision = np.round(n_scores['test_precision_weighted'].mean()*100)\n",
    "nv_rsrecall = np.round(n_scores['test_recall_weighted'].mean()*100)\n",
    "nv_rsf1 = np.round(n_scores['test_f1_weighted'].mean()*100)\n",
    "\n",
    "print(f'Accuracy  : {nv_rsaccuracy} %')\n",
    "print(f'Precision : {nv_rsprecision} %')\n",
    "print(f'Recall    : {nv_rsrecall} %')\n",
    "print(f'f1        : {nv_rsf1} %')"
   ]
  },
  {
   "cell_type": "markdown",
   "id": "76b6abda",
   "metadata": {},
   "source": [
    "**Interpretation**:\n",
    "- On using Naive Bayes model for the prediction of grades of houses we get accuracy,recall,precision and f1 score of about 79% by using train test splitting.\n",
    "- Using KFold splitting we get accuracy and recall score of about 79% and precision score of about 81% and f1 score of about 80%.\n",
    "- Using Repeated Stratisied KFold split we get accuracy, recall and f1 scores of about 80% and precision score of about 81%. \n",
    "- **On using Repeated Stratified KFold split for this model we get a good metric scores compared to other splits.**"
   ]
  },
  {
   "cell_type": "markdown",
   "id": "16644609",
   "metadata": {},
   "source": [
    "## Decision tree Classifier"
   ]
  },
  {
   "cell_type": "markdown",
   "id": "2d279a70",
   "metadata": {},
   "source": [
    "### Model Building"
   ]
  },
  {
   "cell_type": "code",
   "execution_count": 31,
   "id": "3cae0f6c",
   "metadata": {},
   "outputs": [],
   "source": [
    "dtc = DecisionTreeClassifier()"
   ]
  },
  {
   "cell_type": "markdown",
   "id": "fd2a1e7c",
   "metadata": {},
   "source": [
    "### Model Fitting"
   ]
  },
  {
   "cell_type": "code",
   "execution_count": 32,
   "id": "072c62bd",
   "metadata": {},
   "outputs": [
    {
     "data": {
      "text/plain": [
       "DecisionTreeClassifier()"
      ]
     },
     "execution_count": 32,
     "metadata": {},
     "output_type": "execute_result"
    }
   ],
   "source": [
    "dtc.fit(X_train,y_train)"
   ]
  },
  {
   "cell_type": "markdown",
   "id": "9142b030",
   "metadata": {},
   "source": [
    "### Predictions"
   ]
  },
  {
   "cell_type": "code",
   "execution_count": 33,
   "id": "728c1e24",
   "metadata": {},
   "outputs": [
    {
     "data": {
      "text/plain": [
       "array([3, 3, 2, 3, 3, 1, 3, 2, 3, 2, 1, 3, 3, 0, 3, 3, 0, 1, 3, 0, 2, 3,\n",
       "       2, 1, 1, 2, 3, 0, 2, 3, 3, 2, 2, 3, 0, 1, 3, 1, 3, 3, 4, 1, 1, 1,\n",
       "       3, 3, 2, 2, 2, 3, 0, 2, 0, 2, 3, 1, 3, 3, 3, 1, 2, 3, 1, 2, 3, 3,\n",
       "       3, 3, 3, 2, 3, 1, 2, 3, 2, 3, 0, 3, 2, 3, 3, 3, 4, 3, 2, 0, 0, 0,\n",
       "       3, 0, 1, 2, 1, 2, 2, 3, 3, 2, 3, 3, 2, 3, 2, 3, 1, 0, 2, 3, 3, 0,\n",
       "       2, 3, 1, 2, 1, 2, 3, 1, 3, 3, 3, 3, 0, 4, 2, 3, 3, 3, 2, 3, 4, 3,\n",
       "       2, 1, 1, 0, 3, 0, 1, 3, 3, 2, 2, 1, 3, 3, 1, 3, 2, 1, 3, 1, 3, 2,\n",
       "       1, 2, 3, 0, 3, 3, 3, 0, 3, 0, 0, 2, 3, 3, 1, 3, 2, 1, 3, 3, 2, 0,\n",
       "       1, 3, 1, 2, 3, 0, 0, 3, 3, 3, 2, 3, 2, 3, 3, 0, 3, 0, 3, 3, 2, 0,\n",
       "       3, 3, 3, 1, 3, 0, 3, 3, 0, 3, 3, 1, 0, 2, 3, 3, 2, 1, 3, 3, 1, 2,\n",
       "       2, 3, 0, 3, 3, 3, 3, 3, 0, 3, 0, 1, 2, 2, 3, 0, 3, 3, 0, 1, 2, 3,\n",
       "       2, 1, 3, 2, 3, 3, 3, 0, 3, 0, 2, 4, 3, 2, 2, 3, 1, 1, 3, 3, 3, 1,\n",
       "       2, 2, 1, 3, 1, 0, 3, 2, 3, 2, 2, 3, 3, 3, 3, 2, 3, 2, 2, 1, 2, 0,\n",
       "       2, 3, 3, 2, 1, 2, 3, 2, 1, 2, 3, 0, 2, 0, 3, 3, 4, 1, 2, 3, 2, 0,\n",
       "       1, 1, 3, 3, 1, 3, 2, 0, 2, 2, 2, 1, 0, 3, 3, 3, 2, 1, 1, 3, 3, 3,\n",
       "       2, 2, 0, 4, 1, 3, 3, 2, 2, 2, 3, 3, 3, 2, 3, 2, 3, 3, 2, 2, 2, 2,\n",
       "       1, 3, 2, 2, 1, 3, 1, 3, 3, 3, 2, 1, 2, 2, 2, 2, 2, 3, 2, 3, 3, 3,\n",
       "       3, 1, 2, 3, 1, 0, 0, 1, 3, 3, 1, 3, 3, 3, 3, 3, 3, 3, 1, 3, 1, 2,\n",
       "       2, 2, 3, 0, 3, 3, 3, 3, 1, 3, 2, 0, 3, 2, 3, 1, 0, 3, 3, 0, 3, 2,\n",
       "       2, 2, 2, 1, 3, 3, 1, 3, 0, 3, 3, 0, 3, 3, 2, 3, 0, 1, 1, 1, 1, 2,\n",
       "       3, 0, 2, 3, 3, 2, 2, 3, 0, 2, 3, 1, 2, 3, 3, 0, 1, 3, 1, 3, 4, 3,\n",
       "       3, 0, 2, 1, 2, 3, 1, 3, 3, 3, 0, 1, 1, 0, 3, 3, 3, 1, 3, 3, 2, 3,\n",
       "       3, 3, 3, 3, 3, 3, 3, 1, 0, 2, 3, 2, 1, 1, 0, 2, 3, 4, 3, 3, 3, 3,\n",
       "       2, 1, 0, 2, 3, 3, 3, 3, 0, 2, 2, 1, 0, 0, 3, 3, 3, 2, 0, 2, 3, 2,\n",
       "       3, 3, 3, 3, 1, 3, 2, 1, 1, 0, 2, 1, 3, 2, 3, 1, 3, 1, 3, 1, 3, 0,\n",
       "       2, 3, 0, 2, 3, 2, 3, 3, 2, 0, 1, 3, 0, 1, 3, 0, 3, 3, 1, 3, 2, 3,\n",
       "       0, 0, 0, 2, 3, 2, 3, 3, 2, 1, 3, 1, 3, 1, 3, 3, 1, 2, 1, 3, 1, 3,\n",
       "       1, 2, 2, 3, 4, 0, 2, 3, 2, 3, 0, 3, 3, 3, 0, 2, 4, 3, 3, 2, 3, 0,\n",
       "       2, 3, 1, 0, 2, 4, 0, 1, 3, 3, 2, 1, 2, 2, 1, 3, 0, 3, 1, 0, 0, 2,\n",
       "       3, 1, 1, 3, 2, 1, 3, 3, 1, 0, 3, 3, 0, 3, 3, 0, 0, 2, 4, 3, 3, 3,\n",
       "       2, 3, 3, 2, 1, 3, 3, 2, 0, 3, 1, 0, 0, 1, 1, 4, 3, 3, 3, 1, 2, 2,\n",
       "       0, 2, 0, 2, 3, 2, 1, 3, 1, 3, 3, 4, 3, 3, 2, 1, 2, 3, 3, 3, 2, 0,\n",
       "       3, 3, 3, 3, 3, 1, 1, 2, 1, 3, 3, 2, 3, 3, 0, 2, 3, 3, 3, 3, 0, 2,\n",
       "       3, 0, 1, 2, 3, 3, 0, 3, 2, 0, 0, 0, 2, 2, 3, 3, 2, 1, 0, 3, 3, 3,\n",
       "       3, 0, 0, 0, 1, 3, 3, 0, 3, 2, 3, 2, 0, 3, 3, 3, 3, 0, 2, 0, 0, 4,\n",
       "       0, 3, 3, 0, 3, 3, 3, 1, 3, 2, 0, 2, 3, 3, 2, 2, 3, 3, 2, 3, 0, 0,\n",
       "       0, 1, 3, 2, 3, 3, 0, 0, 3, 2, 3, 3, 2, 2, 3, 3, 3, 3, 0, 3, 3, 1,\n",
       "       0, 3, 1, 3, 3, 2, 1, 3, 1, 1, 1, 3, 0, 1, 1, 1, 3, 2, 2, 0, 3, 2,\n",
       "       2, 0, 1, 3, 2, 2, 1, 3, 2, 0, 3, 1, 3, 1, 1, 3, 3, 2, 3, 4, 2, 0,\n",
       "       1, 4, 1, 0, 0, 2, 0, 1, 1, 3, 1, 0, 2, 2, 3, 2, 2, 0, 0, 1, 0, 3,\n",
       "       0, 1, 0, 2, 1, 0, 0, 3, 1, 1, 0, 3, 3, 1, 2, 3, 2, 3, 3, 2])"
      ]
     },
     "execution_count": 33,
     "metadata": {},
     "output_type": "execute_result"
    }
   ],
   "source": [
    "dtc_pred = dtc.predict(X_test)\n",
    "dtc_pred"
   ]
  },
  {
   "cell_type": "markdown",
   "id": "2c1dffde",
   "metadata": {},
   "source": [
    "### Performance Check"
   ]
  },
  {
   "cell_type": "code",
   "execution_count": 34,
   "id": "582d95a3",
   "metadata": {},
   "outputs": [
    {
     "name": "stdout",
     "output_type": "stream",
     "text": [
      "Performance of Training dataset: 100.0 %\n",
      "Performance of Testing dataset : 82.0 %\n"
     ]
    }
   ],
   "source": [
    "# Performance of training data and testing data\n",
    "dtc_train = dtc.score(X_train,y_train)\n",
    "dtc_test = dtc.score(X_test,y_test)\n",
    "\n",
    "print(f'Performance of Training dataset: {np.round(dtc_train*100)} %')\n",
    "print(f'Performance of Testing dataset : {np.round(dtc_test*100)} %')"
   ]
  },
  {
   "cell_type": "markdown",
   "id": "76bf491a",
   "metadata": {},
   "source": [
    "### Evaluation Metrics"
   ]
  },
  {
   "cell_type": "code",
   "execution_count": 35,
   "id": "d1567e65",
   "metadata": {},
   "outputs": [
    {
     "name": "stdout",
     "output_type": "stream",
     "text": [
      "[[114  15   0   0   0]\n",
      " [ 24 123  27   0   0]\n",
      " [  0  15 153  34   0]\n",
      " [  0   0  27 336  10]\n",
      " [  0   0   0  14   8]]\n"
     ]
    }
   ],
   "source": [
    "# Confusion Matrix\n",
    "print(confusion_matrix(y_test,dtc_pred))"
   ]
  },
  {
   "cell_type": "code",
   "execution_count": 36,
   "id": "9ed5f0cf",
   "metadata": {},
   "outputs": [
    {
     "name": "stdout",
     "output_type": "stream",
     "text": [
      "accuracy  : 82.0 %\n",
      "recall    : 82.0 %\n",
      "f1-score  : 81.0 %\n",
      "precision : 81.0 %\n"
     ]
    }
   ],
   "source": [
    "accuracy = np.round(accuracy_score(y_test, dtc_pred)*100)\n",
    "recall = np.round(recall_score(y_test, dtc_pred,average='weighted')*100)\n",
    "f1_score = np.round(f1_score(y_test, dtc_pred,average='weighted')*100)\n",
    "precision = np.round(precision_score(y_test, dtc_pred,average='weighted')*100)\n",
    "\n",
    "print(f'accuracy  : {accuracy} %')\n",
    "print(f'recall    : {recall} %')\n",
    "print(f'f1-score  : {f1_score} %')\n",
    "print(f'precision : {precision} %')"
   ]
  },
  {
   "cell_type": "markdown",
   "id": "c7133164",
   "metadata": {},
   "source": [
    "**Interpretation**: As data seems to be overfitting we can find best parameters using hyperparameter tuning (GRIDSEARCHCV)"
   ]
  },
  {
   "cell_type": "markdown",
   "id": "60341974",
   "metadata": {},
   "source": [
    "### Using GRIDSEARCH to find optimum hyperparameters"
   ]
  },
  {
   "cell_type": "code",
   "execution_count": 37,
   "id": "05ef449d",
   "metadata": {},
   "outputs": [],
   "source": [
    "# Grid Search \n",
    "# Setting parameters for grid search\n",
    "params = {\n",
    "          'max_depth':[8,10,12,14,16,18,20],\n",
    "          'min_samples_split':[5,10,15,20,25],\n",
    "          'max_leaf_nodes':[10,15,20,30,40,50]\n",
    "}"
   ]
  },
  {
   "cell_type": "code",
   "execution_count": 38,
   "id": "15490325",
   "metadata": {},
   "outputs": [],
   "source": [
    "grid_search = GridSearchCV(estimator=dtc,\n",
    "                           param_grid=params,\n",
    "                           cv = 4,\n",
    "                           n_jobs=-1, verbose=1, scoring=\"accuracy\")"
   ]
  },
  {
   "cell_type": "code",
   "execution_count": 39,
   "id": "1f332f70",
   "metadata": {},
   "outputs": [
    {
     "name": "stdout",
     "output_type": "stream",
     "text": [
      "Fitting 4 folds for each of 210 candidates, totalling 840 fits\n"
     ]
    },
    {
     "data": {
      "text/plain": [
       "GridSearchCV(cv=4, estimator=DecisionTreeClassifier(), n_jobs=-1,\n",
       "             param_grid={'max_depth': [8, 10, 12, 14, 16, 18, 20],\n",
       "                         'max_leaf_nodes': [10, 15, 20, 30, 40, 50],\n",
       "                         'min_samples_split': [5, 10, 15, 20, 25]},\n",
       "             scoring='accuracy', verbose=1)"
      ]
     },
     "execution_count": 39,
     "metadata": {},
     "output_type": "execute_result"
    }
   ],
   "source": [
    "# Fitting train datas to Grid search model\n",
    "grid_search.fit(X_train, y_train)"
   ]
  },
  {
   "cell_type": "code",
   "execution_count": 40,
   "id": "6740b1b7",
   "metadata": {},
   "outputs": [
    {
     "data": {
      "text/plain": [
       "0.8371428571428572"
      ]
     },
     "execution_count": 40,
     "metadata": {},
     "output_type": "execute_result"
    }
   ],
   "source": [
    "# Best score\n",
    "grid_search.best_score_"
   ]
  },
  {
   "cell_type": "code",
   "execution_count": 41,
   "id": "d15f8f81",
   "metadata": {},
   "outputs": [
    {
     "data": {
      "text/plain": [
       "DecisionTreeClassifier(max_depth=10, max_leaf_nodes=30, min_samples_split=25)"
      ]
     },
     "execution_count": 41,
     "metadata": {},
     "output_type": "execute_result"
    }
   ],
   "source": [
    "# Best estimators\n",
    "rf_best = grid_search.best_estimator_\n",
    "rf_best "
   ]
  },
  {
   "cell_type": "markdown",
   "id": "5d263073",
   "metadata": {},
   "source": [
    "### Building the Decision tree classifier with best hyperparameters"
   ]
  },
  {
   "cell_type": "code",
   "execution_count": 42,
   "id": "73489c5d",
   "metadata": {},
   "outputs": [],
   "source": [
    "dtc1 = DecisionTreeClassifier(max_depth=10, max_leaf_nodes=30, min_samples_split=25)"
   ]
  },
  {
   "cell_type": "markdown",
   "id": "22921496",
   "metadata": {},
   "source": [
    "### Model Fitting"
   ]
  },
  {
   "cell_type": "code",
   "execution_count": 43,
   "id": "ca41c431",
   "metadata": {},
   "outputs": [
    {
     "data": {
      "text/plain": [
       "DecisionTreeClassifier(max_depth=10, max_leaf_nodes=30, min_samples_split=25)"
      ]
     },
     "execution_count": 43,
     "metadata": {},
     "output_type": "execute_result"
    }
   ],
   "source": [
    "dtc1.fit(X_train,y_train)"
   ]
  },
  {
   "cell_type": "markdown",
   "id": "f5eaa4d3",
   "metadata": {},
   "source": [
    "### Model Prediction"
   ]
  },
  {
   "cell_type": "code",
   "execution_count": 44,
   "id": "4c868973",
   "metadata": {},
   "outputs": [
    {
     "data": {
      "text/plain": [
       "array([3, 3, 2, 3, 3, 2, 3, 2, 2, 1, 1, 3, 3, 1, 3, 3, 0, 2, 2, 0, 3, 3,\n",
       "       2, 2, 1, 2, 3, 0, 2, 3, 3, 2, 3, 3, 0, 1, 3, 1, 3, 3, 3, 1, 2, 1,\n",
       "       4, 3, 2, 2, 2, 3, 0, 2, 0, 2, 2, 1, 3, 3, 3, 0, 2, 3, 1, 2, 2, 3,\n",
       "       3, 3, 3, 2, 3, 1, 2, 3, 3, 3, 0, 3, 2, 3, 3, 3, 4, 3, 2, 1, 0, 0,\n",
       "       3, 0, 1, 3, 2, 1, 2, 3, 3, 2, 3, 3, 2, 3, 2, 3, 1, 0, 2, 3, 3, 1,\n",
       "       3, 3, 1, 2, 1, 2, 3, 2, 3, 3, 3, 3, 0, 3, 2, 3, 3, 3, 2, 3, 3, 3,\n",
       "       2, 1, 0, 0, 3, 0, 1, 3, 3, 2, 2, 1, 3, 3, 1, 3, 2, 1, 3, 1, 3, 2,\n",
       "       1, 2, 3, 0, 3, 3, 3, 0, 3, 1, 0, 2, 3, 3, 1, 3, 2, 1, 3, 3, 2, 0,\n",
       "       1, 3, 1, 2, 3, 0, 0, 3, 3, 3, 2, 3, 3, 3, 3, 0, 3, 0, 3, 3, 3, 0,\n",
       "       3, 3, 3, 2, 3, 0, 3, 3, 0, 3, 3, 1, 1, 2, 3, 3, 3, 1, 3, 3, 0, 3,\n",
       "       3, 3, 0, 3, 3, 3, 3, 3, 1, 2, 0, 2, 2, 2, 3, 0, 3, 3, 0, 1, 2, 3,\n",
       "       2, 1, 3, 2, 3, 3, 3, 0, 3, 0, 2, 3, 3, 2, 3, 3, 1, 1, 3, 3, 3, 1,\n",
       "       2, 3, 1, 3, 1, 1, 3, 3, 3, 3, 2, 3, 3, 3, 3, 1, 3, 2, 3, 1, 2, 0,\n",
       "       3, 3, 3, 2, 1, 2, 3, 2, 1, 2, 3, 0, 2, 1, 3, 3, 3, 0, 3, 3, 2, 0,\n",
       "       1, 2, 3, 3, 1, 3, 2, 0, 2, 2, 2, 1, 1, 3, 3, 3, 3, 1, 0, 2, 3, 3,\n",
       "       2, 2, 0, 3, 1, 3, 3, 2, 2, 2, 2, 3, 3, 2, 3, 2, 3, 3, 2, 2, 2, 2,\n",
       "       1, 3, 3, 3, 1, 3, 0, 3, 3, 3, 2, 1, 2, 2, 2, 3, 2, 3, 3, 3, 3, 3,\n",
       "       3, 1, 2, 3, 1, 0, 0, 1, 3, 3, 1, 3, 3, 3, 3, 3, 3, 3, 2, 2, 1, 3,\n",
       "       3, 2, 3, 0, 3, 3, 3, 3, 1, 3, 2, 0, 3, 2, 3, 1, 0, 3, 4, 0, 3, 1,\n",
       "       2, 2, 2, 1, 3, 3, 1, 2, 0, 3, 3, 0, 3, 3, 2, 3, 0, 1, 0, 1, 1, 2,\n",
       "       3, 1, 2, 3, 3, 2, 2, 3, 1, 2, 3, 1, 2, 3, 3, 0, 1, 3, 1, 3, 3, 3,\n",
       "       3, 0, 1, 1, 2, 3, 1, 3, 3, 3, 0, 1, 2, 0, 3, 3, 3, 1, 3, 3, 2, 3,\n",
       "       3, 4, 3, 3, 3, 3, 3, 1, 0, 2, 3, 2, 1, 1, 0, 2, 3, 3, 3, 3, 3, 3,\n",
       "       2, 1, 1, 2, 3, 3, 3, 3, 0, 2, 2, 1, 0, 0, 3, 3, 3, 2, 0, 2, 3, 3,\n",
       "       4, 3, 3, 3, 1, 3, 3, 1, 1, 0, 2, 1, 3, 2, 3, 1, 3, 1, 3, 1, 3, 0,\n",
       "       2, 3, 0, 1, 3, 2, 3, 3, 2, 0, 1, 3, 0, 1, 3, 0, 3, 3, 1, 3, 2, 3,\n",
       "       1, 0, 1, 2, 3, 2, 3, 3, 1, 1, 3, 1, 3, 1, 3, 3, 1, 2, 1, 3, 1, 3,\n",
       "       0, 3, 2, 3, 3, 0, 3, 3, 2, 3, 1, 3, 3, 3, 0, 2, 3, 3, 3, 1, 3, 0,\n",
       "       2, 3, 1, 1, 2, 3, 1, 1, 3, 3, 2, 1, 2, 2, 2, 2, 0, 3, 2, 0, 1, 2,\n",
       "       3, 1, 1, 3, 2, 1, 3, 3, 1, 0, 3, 3, 0, 3, 3, 0, 0, 1, 3, 3, 3, 3,\n",
       "       3, 3, 3, 2, 1, 3, 3, 2, 0, 3, 1, 0, 1, 1, 1, 3, 3, 3, 3, 1, 2, 2,\n",
       "       0, 2, 0, 2, 3, 3, 1, 3, 1, 3, 3, 3, 3, 3, 2, 1, 2, 3, 3, 3, 3, 0,\n",
       "       3, 3, 3, 2, 3, 1, 2, 3, 1, 3, 3, 2, 2, 3, 0, 2, 3, 3, 3, 3, 0, 3,\n",
       "       3, 0, 1, 2, 3, 3, 0, 3, 1, 0, 0, 0, 2, 2, 3, 3, 2, 0, 1, 3, 3, 3,\n",
       "       3, 0, 1, 0, 1, 3, 3, 0, 3, 3, 3, 2, 1, 3, 3, 3, 3, 0, 2, 0, 0, 3,\n",
       "       1, 3, 3, 0, 3, 3, 3, 1, 3, 2, 0, 1, 3, 3, 2, 2, 3, 3, 3, 3, 0, 0,\n",
       "       0, 1, 3, 2, 3, 3, 0, 1, 3, 2, 3, 3, 2, 2, 3, 3, 3, 3, 0, 3, 3, 1,\n",
       "       1, 3, 1, 2, 3, 2, 1, 3, 1, 1, 1, 2, 1, 2, 1, 1, 3, 2, 2, 0, 3, 2,\n",
       "       2, 0, 1, 3, 2, 2, 1, 3, 2, 0, 3, 1, 3, 1, 1, 3, 3, 3, 3, 4, 1, 1,\n",
       "       1, 4, 1, 0, 0, 2, 1, 1, 1, 3, 1, 0, 1, 2, 3, 1, 2, 1, 0, 1, 0, 3,\n",
       "       1, 1, 0, 2, 1, 0, 0, 3, 1, 1, 0, 3, 3, 1, 3, 3, 1, 3, 3, 2])"
      ]
     },
     "execution_count": 44,
     "metadata": {},
     "output_type": "execute_result"
    }
   ],
   "source": [
    "dtc1_pred = dtc1.predict(X_test)\n",
    "dtc1_pred"
   ]
  },
  {
   "cell_type": "markdown",
   "id": "172c5fe5",
   "metadata": {},
   "source": [
    "### Performance Check"
   ]
  },
  {
   "cell_type": "code",
   "execution_count": 45,
   "id": "67f8798a",
   "metadata": {
    "scrolled": true
   },
   "outputs": [
    {
     "name": "stdout",
     "output_type": "stream",
     "text": [
      "Performance of train dataset = 87.0 %\n",
      "Performance of test dataset  = 82.0 %\n"
     ]
    }
   ],
   "source": [
    "dtc1_train = dtc1.score(X_train,y_train)\n",
    "dtc1_test = dtc1.score(X_test,y_test)\n",
    "\n",
    "print(f\"Performance of train dataset = {np.round(dtc1_train*100)} %\")\n",
    "print(f\"Performance of test dataset  = {np.round(dtc1_test*100)} %\")"
   ]
  },
  {
   "cell_type": "markdown",
   "id": "a3262b4f",
   "metadata": {},
   "source": [
    "### Evaluation Metrics"
   ]
  },
  {
   "cell_type": "code",
   "execution_count": 46,
   "id": "fb652881",
   "metadata": {},
   "outputs": [
    {
     "name": "stdout",
     "output_type": "stream",
     "text": [
      "[[105  24   0   0   0]\n",
      " [ 12 134  28   0   0]\n",
      " [  0  16 141  45   0]\n",
      " [  0   0  15 354   4]\n",
      " [  0   0   0  19   3]]\n"
     ]
    }
   ],
   "source": [
    "# Confusion Matrix\n",
    "print(confusion_matrix(y_test,dtc1_pred))"
   ]
  },
  {
   "cell_type": "code",
   "execution_count": 47,
   "id": "9c8e6b18",
   "metadata": {},
   "outputs": [
    {
     "name": "stdout",
     "output_type": "stream",
     "text": [
      "accuracy  : 82.0 %\n",
      "recall    : 82.0 %\n",
      "f1-score  : 81.0 %\n",
      "precision : 81.0 %\n"
     ]
    }
   ],
   "source": [
    "from sklearn import metrics\n",
    "dtc1_accuracy = np.round(accuracy_score(y_test, dtc1_pred)*100)\n",
    "dtc1_recall = np.round(recall_score(y_test, dtc1_pred,average='weighted')*100)\n",
    "dtc1_f1_score = np.round(metrics.f1_score(y_test, dtc1_pred,average='weighted')*100)\n",
    "dtc1_precision = np.round(precision_score(y_test, dtc1_pred,average='weighted')*100)\n",
    "\n",
    "print(f'accuracy  : {dtc1_accuracy} %')\n",
    "print(f'recall    : {dtc1_recall} %')\n",
    "print(f'f1-score  : {dtc1_f1_score} %')\n",
    "print(f'precision : {dtc1_precision} %')"
   ]
  },
  {
   "cell_type": "markdown",
   "id": "4f1f4114",
   "metadata": {},
   "source": [
    "### Evaluation Metrics using KFold splitting"
   ]
  },
  {
   "cell_type": "code",
   "execution_count": 48,
   "id": "d0257aae",
   "metadata": {},
   "outputs": [
    {
     "name": "stdout",
     "output_type": "stream",
     "text": [
      "Accuracy  : 84.0 %\n",
      "Precision : 83.0 %\n",
      "Recall    : 84.0 %\n",
      "f1        : 83.0 %\n"
     ]
    }
   ],
   "source": [
    "# Kfold Splitting\n",
    "\n",
    "cv = KFold(n_splits=4,shuffle=True,random_state=100)\n",
    "scoring = ['accuracy','precision_weighted','recall_weighted','f1_weighted']\n",
    "n_scores = cross_validate(dtc1, X, y, scoring=scoring, cv=cv, n_jobs=-1, error_score='raise')\n",
    "\n",
    "dtc1_kaccuracy = np.round(n_scores['test_accuracy'].mean()*100)\n",
    "dtc1_kprecision = np.round(n_scores['test_precision_weighted'].mean()*100)\n",
    "dtc1_krecall = np.round(n_scores['test_recall_weighted'].mean()*100)\n",
    "dtc1_kf1 = np.round(n_scores['test_f1_weighted'].mean()*100)\n",
    "\n",
    "print(f'Accuracy  : {dtc1_kaccuracy} %')\n",
    "print(f'Precision : {dtc1_kprecision} %')\n",
    "print(f'Recall    : {dtc1_krecall} %')\n",
    "print(f'f1        : {dtc1_kf1} %')"
   ]
  },
  {
   "cell_type": "markdown",
   "id": "57b7050d",
   "metadata": {},
   "source": [
    "### Evaluation Metrics using RepeatedStratifiedKFold"
   ]
  },
  {
   "cell_type": "code",
   "execution_count": 49,
   "id": "403bc1a1",
   "metadata": {},
   "outputs": [
    {
     "name": "stdout",
     "output_type": "stream",
     "text": [
      "Accuracy  : 83.0 %\n",
      "Precision : 83.0 %\n",
      "Recall    : 83.0 %\n",
      "f1        : 83.0 %\n"
     ]
    }
   ],
   "source": [
    "# RepeatedStratifiedKfold Splitting\n",
    "\n",
    "cv2 = RepeatedStratifiedKFold(n_splits=4,n_repeats=4,random_state=100)\n",
    "scoring = ['accuracy','precision_weighted','recall_weighted','f1_weighted']\n",
    "n_scores = cross_validate(dtc1, X, y, scoring=scoring, cv=cv2, n_jobs=-1, error_score='raise')\n",
    "\n",
    "dtc1_rsaccuracy = np.round(n_scores['test_accuracy'].mean()*100)\n",
    "dtc1_rsprecision = np.round(n_scores['test_precision_weighted'].mean()*100)\n",
    "dtc1_rsrecall = np.round(n_scores['test_recall_weighted'].mean()*100)\n",
    "dtc1_rsf1 = np.round(n_scores['test_f1_weighted'].mean()*100)\n",
    "\n",
    "print(f'Accuracy  : {dtc1_rsaccuracy} %')\n",
    "print(f'Precision : {dtc1_rsprecision} %')\n",
    "print(f'Recall    : {dtc1_rsrecall} %')\n",
    "print(f'f1        : {dtc1_rsf1} %')"
   ]
  },
  {
   "cell_type": "markdown",
   "id": "423fc53c",
   "metadata": {},
   "source": [
    "**Interpretation**: \n",
    "- On using Decision tree classifier model for the prediction of grades of houses we get accuracy and recall scores of about 82% and precision and f1 scores of about 81%.\n",
    "- On using KFold splitting we get accuracy and recall score of about 84% and precision, f1 score of about 83%.\n",
    "- On using Repeated Stratified KFold splitting we get accuracy, precision, recall and f1 scores of about 83%.\n",
    "- **KFold splitting and Repeated Stratified KFold split gives a good metric score for this model**"
   ]
  },
  {
   "cell_type": "markdown",
   "id": "54b2021d",
   "metadata": {},
   "source": [
    "## Random Forest Classifier"
   ]
  },
  {
   "cell_type": "markdown",
   "id": "a7fded44",
   "metadata": {},
   "source": [
    "### Model Building & Fitting"
   ]
  },
  {
   "cell_type": "code",
   "execution_count": 50,
   "id": "9a4d2ff2",
   "metadata": {},
   "outputs": [],
   "source": [
    "rfc = RandomForestClassifier().fit(X_train,y_train)"
   ]
  },
  {
   "cell_type": "markdown",
   "id": "16181b57",
   "metadata": {},
   "source": [
    "### Predictions"
   ]
  },
  {
   "cell_type": "code",
   "execution_count": 51,
   "id": "2da642d9",
   "metadata": {},
   "outputs": [
    {
     "data": {
      "text/plain": [
       "array([3, 3, 2, 3, 2, 2, 3, 2, 2, 1, 1, 3, 2, 1, 3, 3, 0, 2, 3, 0, 3, 3,\n",
       "       2, 1, 2, 2, 3, 0, 2, 3, 3, 2, 2, 3, 0, 1, 3, 1, 3, 3, 3, 1, 1, 1,\n",
       "       3, 3, 2, 2, 2, 3, 0, 2, 0, 2, 3, 1, 3, 3, 3, 0, 2, 3, 1, 2, 2, 3,\n",
       "       3, 3, 3, 2, 3, 1, 2, 3, 3, 3, 0, 3, 2, 3, 3, 3, 4, 3, 2, 1, 0, 0,\n",
       "       3, 0, 1, 3, 2, 1, 2, 3, 3, 2, 3, 3, 2, 3, 2, 3, 1, 0, 2, 2, 3, 0,\n",
       "       3, 3, 1, 2, 1, 2, 3, 2, 3, 3, 3, 3, 0, 3, 2, 3, 3, 3, 2, 3, 4, 3,\n",
       "       2, 1, 1, 0, 3, 0, 1, 3, 3, 2, 2, 1, 3, 3, 1, 3, 2, 1, 3, 1, 3, 2,\n",
       "       1, 2, 3, 0, 3, 3, 3, 0, 3, 1, 0, 2, 3, 3, 1, 3, 2, 1, 3, 3, 2, 0,\n",
       "       1, 3, 0, 2, 3, 0, 0, 3, 3, 3, 2, 3, 2, 3, 3, 0, 3, 0, 3, 3, 2, 0,\n",
       "       3, 3, 3, 1, 3, 0, 3, 3, 0, 3, 3, 1, 1, 1, 3, 3, 2, 1, 2, 3, 0, 3,\n",
       "       2, 3, 0, 3, 3, 3, 3, 3, 1, 2, 0, 1, 2, 2, 3, 0, 3, 3, 0, 1, 2, 3,\n",
       "       2, 1, 3, 2, 3, 3, 3, 1, 3, 0, 2, 3, 3, 2, 2, 2, 1, 1, 3, 3, 3, 1,\n",
       "       2, 3, 1, 3, 1, 0, 3, 3, 3, 3, 2, 3, 3, 3, 3, 2, 3, 2, 3, 1, 2, 0,\n",
       "       2, 3, 3, 2, 1, 2, 3, 2, 1, 2, 3, 0, 2, 0, 3, 3, 3, 0, 3, 3, 2, 1,\n",
       "       1, 2, 3, 3, 1, 3, 2, 0, 2, 2, 2, 1, 1, 3, 3, 3, 2, 1, 1, 2, 3, 3,\n",
       "       2, 2, 0, 3, 2, 3, 3, 2, 2, 2, 2, 3, 3, 2, 3, 2, 3, 3, 1, 2, 2, 2,\n",
       "       1, 3, 2, 2, 1, 2, 0, 3, 3, 3, 2, 1, 2, 2, 2, 3, 2, 3, 3, 3, 3, 3,\n",
       "       3, 1, 2, 3, 1, 0, 0, 1, 3, 3, 1, 3, 3, 3, 3, 3, 3, 2, 1, 2, 1, 2,\n",
       "       3, 2, 3, 0, 3, 3, 2, 3, 1, 4, 2, 0, 3, 2, 3, 1, 0, 3, 3, 0, 3, 1,\n",
       "       2, 2, 2, 1, 3, 3, 1, 3, 0, 3, 3, 0, 3, 3, 2, 3, 0, 1, 0, 1, 1, 2,\n",
       "       3, 0, 2, 3, 3, 2, 2, 3, 0, 2, 3, 1, 2, 3, 3, 0, 1, 3, 1, 3, 4, 3,\n",
       "       3, 0, 2, 1, 2, 3, 1, 3, 3, 3, 0, 1, 2, 0, 3, 3, 3, 1, 3, 3, 2, 3,\n",
       "       3, 3, 3, 2, 3, 3, 3, 1, 0, 2, 3, 2, 1, 1, 0, 3, 3, 3, 3, 3, 3, 3,\n",
       "       2, 1, 0, 2, 3, 3, 3, 3, 0, 2, 2, 1, 0, 0, 3, 3, 3, 2, 0, 2, 3, 2,\n",
       "       3, 3, 3, 3, 1, 3, 2, 2, 1, 0, 2, 1, 3, 2, 3, 1, 3, 1, 3, 1, 3, 0,\n",
       "       2, 3, 0, 2, 3, 2, 3, 2, 2, 0, 1, 3, 0, 1, 3, 0, 3, 3, 1, 3, 2, 3,\n",
       "       0, 0, 1, 2, 3, 2, 3, 3, 1, 1, 3, 1, 3, 1, 3, 3, 1, 2, 1, 3, 1, 3,\n",
       "       1, 3, 2, 3, 3, 0, 3, 3, 2, 3, 0, 3, 3, 3, 0, 3, 4, 3, 2, 2, 3, 0,\n",
       "       2, 3, 1, 0, 2, 4, 1, 1, 3, 3, 2, 1, 2, 2, 2, 2, 0, 3, 2, 0, 0, 2,\n",
       "       3, 1, 1, 3, 2, 1, 3, 3, 1, 0, 3, 3, 0, 3, 3, 0, 0, 1, 4, 3, 3, 3,\n",
       "       2, 3, 3, 2, 1, 3, 3, 2, 0, 3, 0, 0, 1, 1, 1, 4, 3, 3, 3, 1, 2, 2,\n",
       "       0, 2, 0, 1, 3, 3, 1, 3, 1, 3, 3, 3, 3, 3, 2, 0, 2, 3, 3, 3, 3, 0,\n",
       "       3, 3, 3, 3, 3, 1, 1, 2, 1, 3, 3, 2, 3, 3, 0, 2, 3, 3, 3, 3, 0, 2,\n",
       "       3, 0, 1, 2, 3, 3, 0, 3, 2, 0, 0, 0, 2, 2, 3, 3, 2, 0, 0, 3, 3, 3,\n",
       "       3, 1, 0, 0, 1, 3, 3, 0, 3, 3, 2, 2, 0, 3, 3, 3, 3, 0, 2, 0, 0, 3,\n",
       "       0, 3, 3, 1, 3, 3, 3, 2, 3, 2, 0, 1, 3, 3, 2, 2, 3, 3, 2, 3, 0, 0,\n",
       "       0, 1, 3, 2, 3, 3, 0, 0, 3, 2, 3, 3, 2, 2, 3, 3, 3, 3, 0, 3, 3, 1,\n",
       "       1, 3, 1, 2, 3, 2, 1, 3, 1, 1, 1, 3, 0, 2, 1, 1, 2, 2, 2, 0, 3, 2,\n",
       "       2, 0, 1, 3, 2, 2, 1, 3, 2, 0, 3, 1, 3, 1, 2, 4, 3, 3, 3, 3, 2, 0,\n",
       "       1, 4, 1, 0, 0, 2, 0, 1, 1, 3, 1, 0, 2, 2, 3, 2, 2, 0, 0, 1, 0, 3,\n",
       "       1, 1, 0, 2, 1, 0, 0, 3, 1, 2, 0, 3, 3, 1, 2, 3, 2, 3, 3, 2])"
      ]
     },
     "execution_count": 51,
     "metadata": {},
     "output_type": "execute_result"
    }
   ],
   "source": [
    "rfc_pred = rfc.predict(X_test)\n",
    "rfc_pred"
   ]
  },
  {
   "cell_type": "markdown",
   "id": "9399f8b3",
   "metadata": {},
   "source": [
    "### Performance Check"
   ]
  },
  {
   "cell_type": "code",
   "execution_count": 52,
   "id": "7a97fa31",
   "metadata": {},
   "outputs": [
    {
     "name": "stdout",
     "output_type": "stream",
     "text": [
      "Performance of train dataset = 100.0 %\n",
      "Performance of test dataset  = 86.0 %\n"
     ]
    }
   ],
   "source": [
    "rfc_train = rfc.score(X_train,y_train)\n",
    "rfc_test = rfc.score(X_test,y_test)\n",
    "\n",
    "print(f\"Performance of train dataset = {np.round(rfc_train*100)} %\")\n",
    "print(f\"Performance of test dataset  = {np.round(rfc_test*100)} %\")"
   ]
  },
  {
   "cell_type": "markdown",
   "id": "be4b7870",
   "metadata": {},
   "source": [
    "### Evaluation Metrics"
   ]
  },
  {
   "cell_type": "code",
   "execution_count": 53,
   "id": "4df38b40",
   "metadata": {},
   "outputs": [
    {
     "name": "stdout",
     "output_type": "stream",
     "text": [
      "[[119  10   0   0   0]\n",
      " [ 13 134  27   0   0]\n",
      " [  0   9 167  26   0]\n",
      " [  0   0  19 351   3]\n",
      " [  0   0   0  15   7]]\n"
     ]
    }
   ],
   "source": [
    "# Confusion Matrix\n",
    "print(confusion_matrix(y_test,rfc_pred))\n"
   ]
  },
  {
   "cell_type": "code",
   "execution_count": 54,
   "id": "52faa458",
   "metadata": {},
   "outputs": [
    {
     "name": "stdout",
     "output_type": "stream",
     "text": [
      "accuracy  : 86.0 %\n",
      "recall    : 86.0 %\n",
      "f1-score  : 86.0 %\n",
      "precision : 86.0 %\n"
     ]
    }
   ],
   "source": [
    "rfc_accuracy = np.round(accuracy_score(y_test, rfc_pred)*100)\n",
    "rfc_recall = np.round(recall_score(y_test, rfc_pred,average='weighted')*100)\n",
    "rfc_f1_score = np.round(metrics.f1_score(y_test, rfc_pred,average='weighted')*100)\n",
    "rfc_precision = np.round(precision_score(y_test, rfc_pred,average='weighted')*100)\n",
    "\n",
    "print(f'accuracy  : {rfc_accuracy} %')\n",
    "print(f'recall    : {rfc_recall} %')\n",
    "print(f'f1-score  : {rfc_f1_score} %')\n",
    "print(f'precision : {rfc_precision} %')"
   ]
  },
  {
   "cell_type": "markdown",
   "id": "a349ef8d",
   "metadata": {},
   "source": [
    "**By using Grid Search hyperparameter tuning we can get optimum parameters that can be used for the model and can increase its performance**"
   ]
  },
  {
   "cell_type": "markdown",
   "id": "cd6e7dd3",
   "metadata": {},
   "source": [
    "### Using Grid Search CV to find best Hyperparameters"
   ]
  },
  {
   "cell_type": "code",
   "execution_count": 55,
   "id": "b01a7094",
   "metadata": {},
   "outputs": [],
   "source": [
    "# setting parameters\n",
    "params = {\n",
    "    'max_depth': [2,3,5,10,12,15,20,25],\n",
    "    'min_samples_leaf': [5,10,15,20,25,30,50],\n",
    "    'n_estimators': [5,10,15,20,25,30,35,50]\n",
    "}"
   ]
  },
  {
   "cell_type": "code",
   "execution_count": 56,
   "id": "b18c51c4",
   "metadata": {},
   "outputs": [],
   "source": [
    "grid_search = GridSearchCV(estimator=rfc,\n",
    "                           param_grid=params,\n",
    "                           cv = 5,\n",
    "                           n_jobs=-1, verbose=1, scoring=\"accuracy\")"
   ]
  },
  {
   "cell_type": "code",
   "execution_count": 57,
   "id": "2804b7fb",
   "metadata": {},
   "outputs": [
    {
     "name": "stdout",
     "output_type": "stream",
     "text": [
      "Fitting 5 folds for each of 448 candidates, totalling 2240 fits\n"
     ]
    },
    {
     "data": {
      "text/plain": [
       "GridSearchCV(cv=5, estimator=RandomForestClassifier(), n_jobs=-1,\n",
       "             param_grid={'max_depth': [2, 3, 5, 10, 12, 15, 20, 25],\n",
       "                         'min_samples_leaf': [5, 10, 15, 20, 25, 30, 50],\n",
       "                         'n_estimators': [5, 10, 15, 20, 25, 30, 35, 50]},\n",
       "             scoring='accuracy', verbose=1)"
      ]
     },
     "execution_count": 57,
     "metadata": {},
     "output_type": "execute_result"
    }
   ],
   "source": [
    "# Fitting the train data\n",
    "grid_search.fit(X_train, y_train)"
   ]
  },
  {
   "cell_type": "code",
   "execution_count": 58,
   "id": "9b7e318e",
   "metadata": {},
   "outputs": [
    {
     "data": {
      "text/plain": [
       "0.8742857142857143"
      ]
     },
     "execution_count": 58,
     "metadata": {},
     "output_type": "execute_result"
    }
   ],
   "source": [
    "# Best score\n",
    "grid_search.best_score_"
   ]
  },
  {
   "cell_type": "code",
   "execution_count": 59,
   "id": "e3ba8c84",
   "metadata": {},
   "outputs": [
    {
     "data": {
      "text/plain": [
       "RandomForestClassifier(max_depth=15, min_samples_leaf=5, n_estimators=25)"
      ]
     },
     "execution_count": 59,
     "metadata": {},
     "output_type": "execute_result"
    }
   ],
   "source": [
    "# best estimator\n",
    "grid_search.best_estimator_"
   ]
  },
  {
   "cell_type": "markdown",
   "id": "39e5f92e",
   "metadata": {},
   "source": [
    "### Model building using best Parameters"
   ]
  },
  {
   "cell_type": "code",
   "execution_count": 60,
   "id": "5752b5a0",
   "metadata": {},
   "outputs": [],
   "source": [
    "rfc1 = RandomForestClassifier(max_depth=15, min_samples_leaf=5, n_estimators=50)"
   ]
  },
  {
   "cell_type": "code",
   "execution_count": 61,
   "id": "e563b213",
   "metadata": {},
   "outputs": [
    {
     "data": {
      "text/plain": [
       "RandomForestClassifier(max_depth=15, min_samples_leaf=5, n_estimators=50)"
      ]
     },
     "execution_count": 61,
     "metadata": {},
     "output_type": "execute_result"
    }
   ],
   "source": [
    "rfc1.fit(X_train,y_train)"
   ]
  },
  {
   "cell_type": "code",
   "execution_count": 62,
   "id": "b2bb3f84",
   "metadata": {},
   "outputs": [
    {
     "data": {
      "text/plain": [
       "array([3, 3, 2, 3, 3, 2, 3, 2, 2, 1, 1, 3, 2, 1, 3, 3, 0, 2, 2, 0, 3, 3,\n",
       "       2, 1, 2, 2, 3, 0, 2, 3, 3, 2, 2, 3, 0, 1, 3, 1, 3, 3, 3, 1, 1, 1,\n",
       "       3, 3, 2, 2, 2, 3, 0, 2, 0, 2, 3, 1, 3, 3, 3, 0, 2, 3, 1, 2, 3, 3,\n",
       "       3, 3, 3, 2, 3, 1, 2, 3, 3, 3, 0, 3, 2, 3, 3, 3, 4, 3, 2, 1, 0, 0,\n",
       "       3, 0, 1, 3, 2, 1, 2, 3, 3, 2, 3, 3, 2, 3, 2, 3, 1, 0, 2, 2, 3, 0,\n",
       "       3, 3, 0, 2, 1, 2, 3, 2, 3, 3, 3, 3, 0, 3, 2, 3, 3, 3, 2, 3, 4, 3,\n",
       "       2, 1, 1, 0, 3, 0, 1, 3, 3, 2, 2, 1, 3, 3, 1, 3, 2, 1, 3, 1, 3, 2,\n",
       "       1, 2, 3, 0, 3, 3, 3, 0, 3, 1, 0, 2, 3, 3, 1, 3, 2, 1, 3, 3, 2, 0,\n",
       "       1, 3, 0, 2, 3, 0, 0, 3, 3, 3, 2, 3, 2, 3, 3, 0, 3, 0, 3, 3, 2, 0,\n",
       "       3, 3, 3, 1, 3, 0, 3, 3, 0, 3, 3, 1, 1, 2, 3, 3, 2, 1, 2, 3, 0, 3,\n",
       "       2, 3, 0, 3, 3, 3, 3, 3, 1, 2, 0, 2, 2, 2, 3, 0, 2, 3, 0, 2, 2, 3,\n",
       "       2, 1, 3, 2, 3, 3, 3, 1, 3, 0, 2, 3, 3, 2, 2, 2, 1, 1, 3, 3, 3, 1,\n",
       "       2, 3, 1, 3, 1, 0, 3, 3, 3, 3, 2, 3, 3, 3, 3, 2, 3, 2, 2, 1, 2, 0,\n",
       "       3, 3, 3, 2, 1, 2, 3, 2, 1, 2, 3, 0, 2, 1, 3, 3, 3, 0, 3, 3, 2, 1,\n",
       "       1, 2, 3, 3, 1, 3, 2, 0, 2, 2, 2, 1, 1, 3, 3, 3, 2, 1, 1, 2, 3, 3,\n",
       "       2, 2, 0, 3, 1, 3, 3, 2, 2, 2, 2, 3, 3, 2, 3, 2, 3, 3, 1, 2, 2, 2,\n",
       "       1, 3, 2, 2, 1, 2, 0, 3, 3, 3, 2, 1, 2, 2, 2, 3, 2, 3, 3, 3, 3, 3,\n",
       "       3, 1, 2, 3, 1, 0, 0, 1, 3, 3, 1, 3, 3, 3, 3, 3, 3, 2, 1, 2, 1, 2,\n",
       "       3, 2, 3, 0, 3, 3, 2, 3, 1, 3, 2, 0, 3, 2, 3, 1, 0, 3, 3, 0, 3, 2,\n",
       "       2, 2, 2, 1, 3, 3, 1, 3, 0, 3, 3, 0, 3, 3, 2, 3, 0, 1, 0, 1, 1, 2,\n",
       "       3, 0, 2, 3, 3, 2, 2, 3, 1, 2, 3, 1, 2, 3, 3, 0, 1, 3, 1, 3, 3, 3,\n",
       "       3, 0, 2, 1, 2, 3, 1, 3, 3, 3, 0, 1, 2, 0, 3, 3, 3, 1, 3, 3, 2, 3,\n",
       "       3, 3, 3, 2, 3, 3, 3, 1, 0, 2, 3, 2, 1, 1, 0, 3, 3, 3, 3, 3, 3, 3,\n",
       "       2, 1, 0, 2, 3, 3, 3, 3, 0, 2, 2, 1, 0, 0, 3, 3, 3, 2, 0, 3, 3, 2,\n",
       "       3, 3, 3, 3, 1, 3, 2, 2, 1, 0, 2, 1, 3, 2, 3, 1, 3, 1, 3, 1, 3, 0,\n",
       "       2, 3, 0, 2, 3, 2, 3, 3, 3, 0, 1, 3, 0, 1, 3, 0, 3, 3, 1, 3, 2, 3,\n",
       "       1, 0, 1, 2, 3, 2, 3, 3, 1, 1, 3, 1, 3, 1, 3, 3, 1, 2, 1, 3, 1, 3,\n",
       "       1, 3, 2, 3, 3, 0, 3, 3, 2, 3, 1, 3, 3, 3, 0, 3, 3, 3, 2, 2, 2, 0,\n",
       "       2, 3, 1, 0, 2, 4, 1, 1, 3, 3, 2, 1, 2, 2, 2, 2, 0, 3, 2, 0, 0, 2,\n",
       "       3, 1, 1, 3, 2, 1, 3, 3, 1, 0, 3, 3, 1, 3, 3, 0, 0, 1, 4, 3, 3, 3,\n",
       "       2, 3, 3, 2, 1, 3, 3, 2, 0, 3, 1, 0, 1, 1, 1, 3, 3, 3, 3, 1, 2, 2,\n",
       "       0, 2, 0, 2, 3, 2, 1, 3, 1, 3, 3, 3, 3, 3, 2, 1, 2, 3, 3, 3, 3, 0,\n",
       "       3, 3, 3, 3, 3, 1, 1, 3, 1, 3, 2, 2, 3, 3, 0, 2, 3, 3, 3, 3, 0, 2,\n",
       "       3, 0, 1, 2, 3, 3, 0, 3, 2, 0, 0, 0, 2, 2, 3, 3, 2, 0, 0, 3, 3, 3,\n",
       "       3, 1, 0, 0, 1, 3, 3, 0, 3, 3, 2, 2, 1, 3, 3, 3, 3, 0, 2, 0, 0, 3,\n",
       "       0, 3, 3, 0, 3, 3, 3, 1, 3, 2, 0, 1, 3, 3, 2, 2, 3, 3, 2, 3, 0, 0,\n",
       "       0, 1, 3, 2, 3, 3, 0, 1, 3, 2, 3, 3, 2, 2, 3, 3, 3, 3, 0, 3, 3, 1,\n",
       "       1, 3, 1, 2, 3, 2, 1, 3, 1, 1, 1, 3, 0, 2, 1, 1, 2, 2, 2, 0, 3, 2,\n",
       "       2, 0, 1, 3, 1, 2, 1, 3, 2, 0, 3, 1, 3, 1, 2, 3, 3, 3, 3, 3, 2, 0,\n",
       "       1, 3, 1, 0, 0, 2, 0, 1, 1, 3, 1, 0, 2, 2, 3, 2, 2, 0, 0, 1, 0, 3,\n",
       "       1, 1, 0, 2, 1, 0, 0, 3, 1, 2, 0, 3, 3, 1, 2, 3, 2, 3, 3, 2])"
      ]
     },
     "execution_count": 62,
     "metadata": {},
     "output_type": "execute_result"
    }
   ],
   "source": [
    "rfc1_pred = rfc1.predict(X_test)\n",
    "rfc1_pred"
   ]
  },
  {
   "cell_type": "markdown",
   "id": "f327a1ef",
   "metadata": {},
   "source": [
    "### Performance Check\n"
   ]
  },
  {
   "cell_type": "code",
   "execution_count": 63,
   "id": "4ca2c6a7",
   "metadata": {},
   "outputs": [
    {
     "name": "stdout",
     "output_type": "stream",
     "text": [
      "Performance of train dataset = 92.0 %\n",
      "Performance of test dataset  = 86.0 %\n"
     ]
    }
   ],
   "source": [
    "rfc1_train = rfc1.score(X_train,y_train)\n",
    "rfc1_test = rfc1.score(X_test,y_test)\n",
    "\n",
    "print(f\"Performance of train dataset = {np.round(rfc1_train*100)} %\")\n",
    "print(f\"Performance of test dataset  = {np.round(rfc1_test*100)} %\")"
   ]
  },
  {
   "cell_type": "markdown",
   "id": "fe65208a",
   "metadata": {},
   "source": [
    "### Evaluation Metrics"
   ]
  },
  {
   "cell_type": "code",
   "execution_count": 64,
   "id": "e041d1fc",
   "metadata": {},
   "outputs": [
    {
     "name": "stdout",
     "output_type": "stream",
     "text": [
      "accuracy  : 86.0 %\n",
      "recall    : 86.0 %\n",
      "f1-score  : 86.0 %\n",
      "precision : 87.0 %\n"
     ]
    }
   ],
   "source": [
    "rfc1_accuracy = np.round(accuracy_score(y_test, rfc1_pred)*100)\n",
    "rfc1_recall = np.round(recall_score(y_test, rfc1_pred,average='weighted')*100)\n",
    "rfc1_f1_score = np.round(metrics.f1_score(y_test, rfc1_pred,average='weighted')*100)\n",
    "rfc1_precision = np.round(precision_score(y_test, rfc1_pred,average='weighted')*100)\n",
    "\n",
    "print(f'accuracy  : {rfc1_accuracy} %')\n",
    "print(f'recall    : {rfc1_recall} %')\n",
    "print(f'f1-score  : {rfc1_f1_score} %')\n",
    "print(f'precision : {rfc1_precision} %')"
   ]
  },
  {
   "cell_type": "markdown",
   "id": "825416a7",
   "metadata": {},
   "source": [
    "### Evaluation Metrics using KFold splitting"
   ]
  },
  {
   "cell_type": "code",
   "execution_count": 65,
   "id": "b1f63f70",
   "metadata": {},
   "outputs": [
    {
     "name": "stdout",
     "output_type": "stream",
     "text": [
      "Accuracy  : 87.0 %\n",
      "Precision : 87.0 %\n",
      "Recall    : 87.0 %\n",
      "f1        : 87.0 %\n"
     ]
    }
   ],
   "source": [
    "# Kfold Splitting\n",
    "\n",
    "cv = KFold(n_splits=4,shuffle=True,random_state=100)\n",
    "scoring = ['accuracy','precision_weighted','recall_weighted','f1_weighted']\n",
    "n_scores = cross_validate(rfc1, X, y, scoring=scoring, cv=cv, n_jobs=-1, error_score='raise')\n",
    "\n",
    "rfc1_kaccuracy = np.round(n_scores['test_accuracy'].mean()*100)\n",
    "rfc1_kprecision = np.round(n_scores['test_precision_weighted'].mean()*100)\n",
    "rfc1_krecall = np.round(n_scores['test_recall_weighted'].mean()*100)\n",
    "rfc1_kf1 = np.round(n_scores['test_f1_weighted'].mean()*100)\n",
    "\n",
    "print(f'Accuracy  : {rfc1_kaccuracy} %')\n",
    "print(f'Precision : {rfc1_kprecision} %')\n",
    "print(f'Recall    : {rfc1_krecall} %')\n",
    "print(f'f1        : {rfc1_kf1} %')"
   ]
  },
  {
   "cell_type": "markdown",
   "id": "199217f5",
   "metadata": {},
   "source": [
    "### Evaluation Metrics using RepeatedStratifiedKFold"
   ]
  },
  {
   "cell_type": "code",
   "execution_count": 66,
   "id": "b4cd4a64",
   "metadata": {},
   "outputs": [
    {
     "name": "stdout",
     "output_type": "stream",
     "text": [
      "Accuracy  : 87.0 %\n",
      "Precision : 87.0 %\n",
      "Recall    : 87.0 %\n",
      "f1        : 87.0 %\n"
     ]
    }
   ],
   "source": [
    "# RepeatedStratifiedKfold Splitting\n",
    "\n",
    "cv2 = RepeatedStratifiedKFold(n_splits=4,n_repeats=4,random_state=100)\n",
    "scoring = ['accuracy','precision_weighted','recall_weighted','f1_weighted']\n",
    "n_scores = cross_validate(rfc1, X, y, scoring=scoring, cv=cv2, n_jobs=-1, error_score='raise')\n",
    "\n",
    "rfc1_rsaccuracy = np.round(n_scores['test_accuracy'].mean()*100)\n",
    "rfc1_rsprecision = np.round(n_scores['test_precision_weighted'].mean()*100)\n",
    "rfc1_rsrecall = np.round(n_scores['test_recall_weighted'].mean()*100)\n",
    "rfc1_rsf1 = np.round(n_scores['test_f1_weighted'].mean()*100)\n",
    "\n",
    "print(f'Accuracy  : {rfc1_rsaccuracy} %')\n",
    "print(f'Precision : {rfc1_rsprecision} %')\n",
    "print(f'Recall    : {rfc1_rsrecall} %')\n",
    "print(f'f1        : {rfc1_rsf1} %')"
   ]
  },
  {
   "cell_type": "markdown",
   "id": "3b070977",
   "metadata": {},
   "source": [
    "**Interpretation**:\n",
    "- On using Random Forest Classifier model for prediction of grades of houses we get accuracy, precision , recall and f1 scores of about 86% by using train test split method.\n",
    "- Using KFold splitting we get accuracy , precision, recall and f1 scores of about 87%.\n",
    "- Using RepeatedStratifiedKFold splitting we get accuracy, precision, recall and f1 scores of about 87%.\n",
    "- **KFold and RepeatedStratifiedKFold split gives good metric scores for this model.**"
   ]
  },
  {
   "cell_type": "markdown",
   "id": "8678f999",
   "metadata": {},
   "source": [
    "## Stacking Classifier"
   ]
  },
  {
   "cell_type": "code",
   "execution_count": 67,
   "id": "7f5b0b6b",
   "metadata": {},
   "outputs": [],
   "source": [
    "# required Python libraries\n",
    "from sklearn.linear_model import LogisticRegression\n",
    "from sklearn.neighbors import KNeighborsClassifier\n",
    "from sklearn.tree import DecisionTreeClassifier\n",
    "from sklearn.svm import SVC\n",
    "from sklearn.naive_bayes import GaussianNB\n",
    "from sklearn.ensemble import StackingClassifier"
   ]
  },
  {
   "cell_type": "markdown",
   "id": "98206126",
   "metadata": {},
   "source": [
    "### Defining function for the model with base learners and meta learner"
   ]
  },
  {
   "cell_type": "code",
   "execution_count": 68,
   "id": "07243aba",
   "metadata": {},
   "outputs": [],
   "source": [
    "# get a stacking ensemble of models\n",
    "def get_stacking():\n",
    "    # define the base models\n",
    "    level0 = list()\n",
    "    level0.append(('lr', LogisticRegression()))\n",
    "    level0.append(('knn', KNeighborsClassifier()))\n",
    "    level0.append(('cart', DecisionTreeClassifier()))\n",
    "    level0.append(('svc', SVC()))\n",
    "    level0.append(('bayes', GaussianNB()))\n",
    "    # define meta learner model\n",
    "    level1 = GaussianNB()\n",
    "    # define the stacking ensemble\n",
    "    model = StackingClassifier(estimators=level0, final_estimator=level1, cv=5)  \n",
    "    return model"
   ]
  },
  {
   "cell_type": "markdown",
   "id": "62b1c982",
   "metadata": {},
   "source": [
    "### Model Building"
   ]
  },
  {
   "cell_type": "code",
   "execution_count": 69,
   "id": "a314ce9a",
   "metadata": {},
   "outputs": [],
   "source": [
    "model = get_stacking()"
   ]
  },
  {
   "cell_type": "markdown",
   "id": "1484a80f",
   "metadata": {},
   "source": [
    "### Model Fitting"
   ]
  },
  {
   "cell_type": "code",
   "execution_count": 70,
   "id": "f975e8ef",
   "metadata": {},
   "outputs": [
    {
     "data": {
      "text/plain": [
       "StackingClassifier(cv=5,\n",
       "                   estimators=[('lr', LogisticRegression()),\n",
       "                               ('knn', KNeighborsClassifier()),\n",
       "                               ('cart', DecisionTreeClassifier()),\n",
       "                               ('svc', SVC()), ('bayes', GaussianNB())],\n",
       "                   final_estimator=GaussianNB())"
      ]
     },
     "execution_count": 70,
     "metadata": {},
     "output_type": "execute_result"
    }
   ],
   "source": [
    "model.fit(X_train,y_train)"
   ]
  },
  {
   "cell_type": "markdown",
   "id": "ff7639f3",
   "metadata": {},
   "source": [
    "### Model Prediction"
   ]
  },
  {
   "cell_type": "code",
   "execution_count": 71,
   "id": "52b6ed4f",
   "metadata": {},
   "outputs": [
    {
     "data": {
      "text/plain": [
       "array([3, 3, 2, 3, 3, 2, 3, 2, 2, 1, 1, 4, 3, 0, 4, 3, 0, 2, 3, 0, 2, 2,\n",
       "       2, 1, 1, 2, 3, 0, 1, 3, 4, 2, 2, 3, 0, 1, 3, 1, 4, 3, 4, 1, 1, 1,\n",
       "       4, 3, 2, 2, 2, 3, 0, 2, 0, 2, 2, 1, 3, 3, 3, 0, 2, 3, 1, 2, 3, 3,\n",
       "       3, 3, 4, 2, 4, 0, 2, 4, 3, 4, 0, 3, 2, 4, 3, 4, 4, 4, 2, 1, 0, 0,\n",
       "       3, 0, 1, 2, 2, 1, 2, 4, 3, 2, 3, 3, 2, 4, 2, 4, 1, 0, 2, 2, 3, 0,\n",
       "       2, 3, 0, 2, 1, 2, 3, 2, 3, 4, 3, 4, 0, 4, 2, 3, 3, 3, 2, 4, 4, 4,\n",
       "       2, 1, 0, 0, 3, 0, 1, 3, 3, 2, 2, 1, 3, 3, 1, 4, 2, 1, 3, 1, 3, 2,\n",
       "       1, 1, 3, 0, 4, 4, 3, 0, 2, 1, 0, 2, 3, 4, 1, 4, 2, 1, 3, 4, 2, 0,\n",
       "       1, 3, 0, 2, 3, 0, 0, 3, 4, 3, 2, 3, 2, 4, 3, 0, 3, 0, 3, 3, 2, 0,\n",
       "       3, 3, 4, 1, 4, 0, 3, 3, 0, 3, 3, 1, 1, 2, 3, 3, 2, 0, 2, 4, 0, 3,\n",
       "       2, 3, 0, 4, 4, 3, 4, 4, 0, 2, 0, 1, 2, 2, 3, 0, 2, 3, 0, 1, 2, 4,\n",
       "       2, 1, 2, 2, 3, 4, 2, 0, 4, 0, 2, 3, 4, 2, 2, 2, 1, 1, 3, 3, 3, 1,\n",
       "       2, 3, 0, 4, 1, 0, 4, 2, 4, 3, 2, 4, 3, 4, 4, 1, 3, 2, 3, 1, 2, 0,\n",
       "       2, 4, 3, 2, 1, 2, 3, 2, 1, 2, 3, 0, 2, 0, 3, 3, 4, 0, 3, 3, 2, 0,\n",
       "       1, 2, 3, 3, 1, 3, 2, 0, 2, 2, 2, 1, 0, 3, 3, 3, 2, 1, 1, 2, 3, 3,\n",
       "       2, 1, 0, 4, 1, 3, 3, 2, 2, 2, 2, 4, 3, 2, 3, 2, 3, 4, 1, 2, 2, 2,\n",
       "       1, 3, 2, 2, 1, 2, 0, 3, 3, 3, 2, 1, 2, 2, 2, 3, 2, 3, 3, 3, 3, 3,\n",
       "       3, 1, 2, 3, 1, 0, 0, 1, 3, 4, 1, 3, 3, 3, 3, 4, 4, 2, 1, 2, 1, 2,\n",
       "       2, 2, 3, 0, 3, 3, 2, 3, 1, 4, 2, 0, 3, 2, 3, 1, 0, 3, 4, 0, 3, 1,\n",
       "       2, 2, 2, 1, 4, 3, 1, 3, 0, 3, 3, 0, 3, 3, 2, 3, 0, 1, 0, 1, 1, 2,\n",
       "       3, 0, 2, 3, 4, 2, 2, 3, 0, 1, 3, 1, 2, 3, 3, 0, 1, 3, 1, 3, 4, 3,\n",
       "       3, 0, 2, 1, 2, 4, 0, 3, 4, 3, 0, 1, 2, 0, 3, 4, 3, 1, 3, 3, 2, 4,\n",
       "       3, 4, 3, 3, 4, 3, 3, 1, 1, 2, 3, 2, 1, 1, 0, 2, 3, 4, 4, 3, 3, 4,\n",
       "       2, 1, 0, 2, 3, 4, 3, 4, 0, 2, 2, 0, 0, 0, 3, 3, 3, 2, 0, 3, 3, 2,\n",
       "       4, 2, 4, 4, 1, 3, 2, 2, 1, 0, 2, 1, 3, 2, 3, 1, 4, 1, 3, 1, 3, 0,\n",
       "       2, 4, 0, 1, 3, 2, 3, 2, 3, 0, 0, 3, 0, 1, 3, 0, 3, 3, 1, 4, 2, 3,\n",
       "       1, 0, 1, 1, 4, 2, 3, 3, 1, 1, 3, 1, 3, 1, 3, 3, 1, 2, 1, 3, 0, 3,\n",
       "       1, 3, 2, 3, 4, 0, 2, 3, 2, 4, 0, 3, 4, 4, 0, 2, 4, 4, 2, 1, 2, 0,\n",
       "       2, 3, 0, 0, 2, 4, 0, 1, 3, 3, 2, 1, 2, 2, 2, 2, 0, 4, 2, 0, 0, 2,\n",
       "       3, 1, 1, 4, 2, 1, 3, 3, 1, 0, 3, 4, 1, 3, 3, 0, 0, 1, 4, 3, 3, 3,\n",
       "       2, 3, 3, 2, 1, 3, 3, 2, 0, 3, 0, 0, 0, 1, 1, 4, 3, 4, 3, 1, 2, 2,\n",
       "       0, 2, 0, 1, 4, 3, 0, 3, 1, 3, 3, 4, 3, 3, 2, 0, 2, 3, 4, 3, 3, 0,\n",
       "       3, 3, 2, 3, 3, 0, 1, 3, 1, 3, 2, 2, 3, 4, 0, 2, 3, 4, 3, 3, 0, 2,\n",
       "       3, 0, 1, 2, 3, 4, 0, 4, 1, 0, 0, 0, 2, 2, 3, 3, 2, 1, 0, 4, 4, 3,\n",
       "       3, 0, 0, 0, 0, 4, 3, 0, 3, 3, 3, 2, 0, 3, 3, 3, 3, 0, 2, 0, 0, 4,\n",
       "       0, 4, 3, 0, 4, 3, 4, 1, 4, 2, 0, 1, 3, 3, 2, 2, 3, 4, 2, 3, 0, 0,\n",
       "       0, 1, 3, 2, 4, 3, 0, 0, 3, 2, 3, 4, 2, 2, 4, 3, 4, 3, 0, 3, 3, 1,\n",
       "       0, 4, 1, 2, 3, 2, 0, 3, 1, 1, 1, 3, 0, 2, 1, 0, 2, 2, 2, 0, 3, 2,\n",
       "       2, 0, 1, 3, 1, 2, 1, 4, 2, 0, 3, 1, 3, 1, 1, 4, 4, 3, 4, 4, 2, 0,\n",
       "       1, 4, 1, 0, 0, 2, 0, 0, 1, 3, 1, 0, 2, 2, 4, 2, 1, 0, 0, 2, 0, 3,\n",
       "       0, 1, 0, 2, 1, 0, 0, 3, 0, 1, 0, 3, 4, 2, 2, 4, 2, 4, 3, 2])"
      ]
     },
     "execution_count": 71,
     "metadata": {},
     "output_type": "execute_result"
    }
   ],
   "source": [
    "st_pred = model.predict(X_test)\n",
    "st_pred"
   ]
  },
  {
   "cell_type": "markdown",
   "id": "98cc6040",
   "metadata": {},
   "source": [
    "### Performance Check"
   ]
  },
  {
   "cell_type": "code",
   "execution_count": 72,
   "id": "4c87eb7b",
   "metadata": {},
   "outputs": [
    {
     "name": "stdout",
     "output_type": "stream",
     "text": [
      "Performance of train dataset = 80.0 %\n",
      "Performance of test dataset  = 77.0 %\n"
     ]
    }
   ],
   "source": [
    "st_train = model.score(X_train,y_train)\n",
    "st_test = model.score(X_test,y_test)\n",
    "\n",
    "print(f\"Performance of train dataset = {np.round(st_train*100)} %\")\n",
    "print(f\"Performance of test dataset  = {np.round(st_test*100)} %\")"
   ]
  },
  {
   "cell_type": "markdown",
   "id": "b7627414",
   "metadata": {},
   "source": [
    "### Evaluation Metrics"
   ]
  },
  {
   "cell_type": "code",
   "execution_count": 73,
   "id": "21143dac",
   "metadata": {},
   "outputs": [
    {
     "name": "stdout",
     "output_type": "stream",
     "text": [
      "accuracy  : 77.0 %\n",
      "recall    : 77.0 %\n",
      "f1-score  : 80.0 %\n",
      "precision : 86.0 %\n"
     ]
    }
   ],
   "source": [
    "st_accuracy = np.round(accuracy_score(y_test, st_pred)*100)\n",
    "st_recall = np.round(recall_score(y_test, st_pred,average='weighted')*100)\n",
    "st_f1_score = np.round(metrics.f1_score(y_test, st_pred,average='weighted')*100)\n",
    "st_precision = np.round(precision_score(y_test, st_pred,average='weighted')*100)\n",
    "\n",
    "print(f'accuracy  : {st_accuracy} %')\n",
    "print(f'recall    : {st_recall} %')\n",
    "print(f'f1-score  : {st_f1_score} %')\n",
    "print(f'precision : {st_precision} %')"
   ]
  },
  {
   "cell_type": "markdown",
   "id": "c4c6e557",
   "metadata": {},
   "source": [
    "### Evaluation metrics using KFold split"
   ]
  },
  {
   "cell_type": "code",
   "execution_count": 74,
   "id": "8ff98261",
   "metadata": {},
   "outputs": [
    {
     "data": {
      "text/plain": [
       "{'fit_time': array([6.7248857 , 6.8065331 , 6.75613713, 6.74050975, 6.70925188,\n",
       "        6.83468771, 6.70624089, 6.88119364, 6.80292916, 6.84981871]),\n",
       " 'score_time': array([0.20408487, 0.18519187, 0.18960667, 0.21974444, 0.19757628,\n",
       "        0.17705083, 0.19107151, 0.18120456, 0.20936012, 0.16247058]),\n",
       " 'test_accuracy': array([0.55      , 0.57666667, 0.59333333, 0.55      , 0.58      ,\n",
       "        0.58      , 0.55666667, 0.59333333, 0.54333333, 0.62666667]),\n",
       " 'test_precision_weighted': array([0.69921646, 0.71884568, 0.75226823, 0.73135035, 0.73835188,\n",
       "        0.71871277, 0.68098204, 0.72606856, 0.72350002, 0.76609451]),\n",
       " 'test_recall_weighted': array([0.55      , 0.57666667, 0.59333333, 0.55      , 0.58      ,\n",
       "        0.58      , 0.55666667, 0.59333333, 0.54333333, 0.62666667]),\n",
       " 'test_f1_weighted': array([0.56531003, 0.60092662, 0.62786855, 0.57555643, 0.61975553,\n",
       "        0.61124475, 0.57668085, 0.62480006, 0.58068176, 0.65159095])}"
      ]
     },
     "execution_count": 74,
     "metadata": {},
     "output_type": "execute_result"
    }
   ],
   "source": [
    "model = get_stacking()\n",
    "\n",
    "# evaluate the model\n",
    "cv = KFold(n_splits=10, shuffle=True, random_state=1)\n",
    "scoring = ['accuracy','precision_weighted','recall_weighted','f1_weighted']\n",
    "n_scores = cross_validate(model, X, y, scoring=scoring, cv=cv, n_jobs=-1, error_score='raise')\n",
    "n_scores"
   ]
  },
  {
   "cell_type": "code",
   "execution_count": 75,
   "id": "5867e6ae",
   "metadata": {},
   "outputs": [
    {
     "name": "stdout",
     "output_type": "stream",
     "text": [
      "Accuracy  : 57.0 %\n",
      "Precision : 73.0 %\n",
      "Recall    : 57.0 %\n",
      "f1        : 60.0 %\n"
     ]
    }
   ],
   "source": [
    "st_kaccuracy = np.round(n_scores['test_accuracy'].mean()*100)\n",
    "st_kprecision = np.round(n_scores['test_precision_weighted'].mean()*100)\n",
    "st_krecall = np.round(n_scores['test_recall_weighted'].mean()*100)\n",
    "st_kf1 = np.round(n_scores['test_f1_weighted'].mean()*100)\n",
    "\n",
    "print(f'Accuracy  : {st_kaccuracy} %')\n",
    "print(f'Precision : {st_kprecision} %')\n",
    "print(f'Recall    : {st_krecall} %')\n",
    "print(f'f1        : {st_kf1} %')"
   ]
  },
  {
   "cell_type": "markdown",
   "id": "b5b8ddba",
   "metadata": {},
   "source": [
    "### Evaluation metric using Repeated Stratified KFold split"
   ]
  },
  {
   "cell_type": "code",
   "execution_count": 76,
   "id": "c30239b6",
   "metadata": {},
   "outputs": [
    {
     "data": {
      "text/plain": [
       "{'fit_time': array([7.25170493, 7.34999371, 6.9616313 , 7.36303115, 7.29704499,\n",
       "        8.3016963 , 8.25481653, 7.25371885, 7.56680417, 7.78142381,\n",
       "        8.09519768, 8.30760002, 7.0789299 , 7.65969825, 7.32992792,\n",
       "        8.39113593, 7.88853335, 7.67802858, 7.65326333, 7.44887805,\n",
       "        8.17498422, 7.11952519, 8.08654785, 8.05011845, 6.146456  ,\n",
       "        6.00541687, 6.13850212, 5.77414989, 6.01486516, 5.93560338]),\n",
       " 'score_time': array([0.21960974, 0.24716043, 0.2199831 , 0.27340698, 0.22000074,\n",
       "        0.23540735, 0.23500633, 0.21959805, 0.23527002, 0.2356348 ,\n",
       "        0.23557472, 0.23502207, 0.21958518, 0.24484539, 0.20435739,\n",
       "        0.20467734, 0.21987176, 0.23804665, 0.21987176, 0.2198801 ,\n",
       "        0.18868089, 0.2048049 , 0.21254539, 0.17496371, 0.21992421,\n",
       "        0.1254046 , 0.17594981, 0.14392567, 0.12537074, 0.1421032 ]),\n",
       " 'test_accuracy': array([0.53333333, 0.56666667, 0.63      , 0.59666667, 0.59666667,\n",
       "        0.59      , 0.57333333, 0.60666667, 0.57      , 0.57666667,\n",
       "        0.57666667, 0.60333333, 0.57666667, 0.57666667, 0.59666667,\n",
       "        0.57      , 0.61333333, 0.58      , 0.64333333, 0.54      ,\n",
       "        0.55666667, 0.57666667, 0.61333333, 0.56333333, 0.57      ,\n",
       "        0.58      , 0.56666667, 0.62333333, 0.57666667, 0.60333333]),\n",
       " 'test_precision_weighted': array([0.69485998, 0.72062951, 0.76849915, 0.75859486, 0.75702814,\n",
       "        0.75367484, 0.69769522, 0.74187165, 0.70338407, 0.72520771,\n",
       "        0.74346871, 0.72931535, 0.72560702, 0.69519059, 0.77463168,\n",
       "        0.73777686, 0.73502783, 0.73363002, 0.78120202, 0.66719189,\n",
       "        0.72190033, 0.71808778, 0.79667623, 0.69586763, 0.69419086,\n",
       "        0.71724836, 0.69980762, 0.79282783, 0.71982257, 0.74715476]),\n",
       " 'test_recall_weighted': array([0.53333333, 0.56666667, 0.63      , 0.59666667, 0.59666667,\n",
       "        0.59      , 0.57333333, 0.60666667, 0.57      , 0.57666667,\n",
       "        0.57666667, 0.60333333, 0.57666667, 0.57666667, 0.59666667,\n",
       "        0.57      , 0.61333333, 0.58      , 0.64333333, 0.54      ,\n",
       "        0.55666667, 0.57666667, 0.61333333, 0.56333333, 0.57      ,\n",
       "        0.58      , 0.56666667, 0.62333333, 0.57666667, 0.60333333]),\n",
       " 'test_f1_weighted': array([0.56677464, 0.59338218, 0.66671919, 0.62686592, 0.62534712,\n",
       "        0.62628902, 0.58743793, 0.63045941, 0.59200446, 0.60669474,\n",
       "        0.60925501, 0.62444673, 0.60540375, 0.59895718, 0.6337373 ,\n",
       "        0.59998416, 0.6401625 , 0.60893177, 0.67295759, 0.56748882,\n",
       "        0.58437721, 0.60254771, 0.64966659, 0.59136277, 0.59527339,\n",
       "        0.61760578, 0.5908933 , 0.65608594, 0.59947472, 0.63157556])}"
      ]
     },
     "execution_count": 76,
     "metadata": {},
     "output_type": "execute_result"
    }
   ],
   "source": [
    "# define the model\n",
    "model = get_stacking()\n",
    "\n",
    "# evaluate the model\n",
    "cv = RepeatedStratifiedKFold(n_splits=10, n_repeats=3, random_state=1)\n",
    "scoring = ['accuracy','precision_weighted','recall_weighted','f1_weighted']\n",
    "n_scores = cross_validate(model, X, y, scoring=scoring, cv=cv, n_jobs=-1, error_score='raise')\n",
    "n_scores"
   ]
  },
  {
   "cell_type": "code",
   "execution_count": 77,
   "id": "068bf353",
   "metadata": {},
   "outputs": [
    {
     "name": "stdout",
     "output_type": "stream",
     "text": [
      "Accuracy  : 58.0 %\n",
      "Precision : 73.0 %\n",
      "Recall    : 58.0 %\n",
      "f1        : 61.0 %\n"
     ]
    }
   ],
   "source": [
    "st_rsaccuracy = np.round(n_scores['test_accuracy'].mean()*100)\n",
    "st_rsprecision = np.round(n_scores['test_precision_weighted'].mean()*100)\n",
    "st_rsrecall = np.round(n_scores['test_recall_weighted'].mean()*100)\n",
    "st_rsf1 = np.round(n_scores['test_f1_weighted'].mean()*100)\n",
    "\n",
    "print(f'Accuracy  : {st_rsaccuracy} %')\n",
    "print(f'Precision : {st_rsprecision} %')\n",
    "print(f'Recall    : {st_rsrecall} %')\n",
    "print(f'f1        : {st_rsf1} %')"
   ]
  },
  {
   "cell_type": "markdown",
   "id": "218f6296",
   "metadata": {},
   "source": [
    "**Interpretation**:\n",
    "- On using Stacking Classifier model to predict the grades of houses we get accuracy and recall score of about 79%, f1 score of about 81% and precision acore as 86% using train test split.\n",
    "- Using KFold split we get accuracy score as 80%, f1 score as 82% and precision and recall scores of about 88%.\n",
    "- Using Repeated Stratified KFold split we get accuracy score as 80% , precision and recall score as 87% and f1 score as 82%."
   ]
  },
  {
   "cell_type": "markdown",
   "id": "45b4ce35",
   "metadata": {},
   "source": [
    "## Conclusion"
   ]
  },
  {
   "cell_type": "code",
   "execution_count": 78,
   "id": "9861eec5",
   "metadata": {},
   "outputs": [
    {
     "name": "stdout",
     "output_type": "stream",
     "text": [
      "Using Train Test Splitting method:\n"
     ]
    },
    {
     "data": {
      "text/html": [
       "<div>\n",
       "<style scoped>\n",
       "    .dataframe tbody tr th:only-of-type {\n",
       "        vertical-align: middle;\n",
       "    }\n",
       "\n",
       "    .dataframe tbody tr th {\n",
       "        vertical-align: top;\n",
       "    }\n",
       "\n",
       "    .dataframe thead th {\n",
       "        text-align: right;\n",
       "    }\n",
       "</style>\n",
       "<table border=\"1\" class=\"dataframe\">\n",
       "  <thead>\n",
       "    <tr style=\"text-align: right;\">\n",
       "      <th></th>\n",
       "      <th>Accuracy</th>\n",
       "      <th>Precision</th>\n",
       "      <th>F1_score</th>\n",
       "      <th>Recall</th>\n",
       "    </tr>\n",
       "  </thead>\n",
       "  <tbody>\n",
       "    <tr>\n",
       "      <th>NaiveBayes</th>\n",
       "      <td>79.0</td>\n",
       "      <td>79.0</td>\n",
       "      <td>79.0</td>\n",
       "      <td>79.0</td>\n",
       "    </tr>\n",
       "    <tr>\n",
       "      <th>DecisionTreeClassifier</th>\n",
       "      <td>82.0</td>\n",
       "      <td>81.0</td>\n",
       "      <td>81.0</td>\n",
       "      <td>82.0</td>\n",
       "    </tr>\n",
       "    <tr>\n",
       "      <th>RandomForestClassifier</th>\n",
       "      <td>86.0</td>\n",
       "      <td>87.0</td>\n",
       "      <td>86.0</td>\n",
       "      <td>86.0</td>\n",
       "    </tr>\n",
       "    <tr>\n",
       "      <th>StackingClassifier</th>\n",
       "      <td>77.0</td>\n",
       "      <td>86.0</td>\n",
       "      <td>80.0</td>\n",
       "      <td>77.0</td>\n",
       "    </tr>\n",
       "  </tbody>\n",
       "</table>\n",
       "</div>"
      ],
      "text/plain": [
       "                        Accuracy  Precision  F1_score  Recall\n",
       "NaiveBayes                  79.0       79.0      79.0    79.0\n",
       "DecisionTreeClassifier      82.0       81.0      81.0    82.0\n",
       "RandomForestClassifier      86.0       87.0      86.0    86.0\n",
       "StackingClassifier          77.0       86.0      80.0    77.0"
      ]
     },
     "execution_count": 78,
     "metadata": {},
     "output_type": "execute_result"
    }
   ],
   "source": [
    "print('Using Train Test Splitting method:')\n",
    "pd.DataFrame([[nv_accuracy,nv_precision,nv_f1_score,nv_recall],[dtc1_accuracy,dtc1_precision,dtc1_f1_score,dtc1_recall],\n",
    "             [rfc1_accuracy,rfc1_precision,rfc1_f1_score,rfc1_recall],[st_accuracy,st_precision,st_f1_score,st_recall]],\n",
    "            columns=['Accuracy','Precision','F1_score','Recall'],\n",
    "            index = ['NaiveBayes','DecisionTreeClassifier','RandomForestClassifier','StackingClassifier'])"
   ]
  },
  {
   "cell_type": "markdown",
   "id": "ef2b5081",
   "metadata": {},
   "source": [
    "**Interpretation**: \n",
    "- On comparing the metric scores obtained by the classification models on predicting the Grades of houses using the train test split method we can observe that Random forest classifier model gives best metric scores compared to other models."
   ]
  },
  {
   "cell_type": "code",
   "execution_count": 79,
   "id": "15da6c98",
   "metadata": {},
   "outputs": [
    {
     "name": "stdout",
     "output_type": "stream",
     "text": [
      "Using KFold splitting method:\n"
     ]
    },
    {
     "data": {
      "text/html": [
       "<div>\n",
       "<style scoped>\n",
       "    .dataframe tbody tr th:only-of-type {\n",
       "        vertical-align: middle;\n",
       "    }\n",
       "\n",
       "    .dataframe tbody tr th {\n",
       "        vertical-align: top;\n",
       "    }\n",
       "\n",
       "    .dataframe thead th {\n",
       "        text-align: right;\n",
       "    }\n",
       "</style>\n",
       "<table border=\"1\" class=\"dataframe\">\n",
       "  <thead>\n",
       "    <tr style=\"text-align: right;\">\n",
       "      <th></th>\n",
       "      <th>Accuracy</th>\n",
       "      <th>Precision</th>\n",
       "      <th>F1_score</th>\n",
       "      <th>Recall</th>\n",
       "    </tr>\n",
       "  </thead>\n",
       "  <tbody>\n",
       "    <tr>\n",
       "      <th>NaiveBayes</th>\n",
       "      <td>79.0</td>\n",
       "      <td>81.0</td>\n",
       "      <td>80.0</td>\n",
       "      <td>79.0</td>\n",
       "    </tr>\n",
       "    <tr>\n",
       "      <th>DecisionTreeClassifier</th>\n",
       "      <td>84.0</td>\n",
       "      <td>83.0</td>\n",
       "      <td>83.0</td>\n",
       "      <td>84.0</td>\n",
       "    </tr>\n",
       "    <tr>\n",
       "      <th>RandomForestClassifier</th>\n",
       "      <td>87.0</td>\n",
       "      <td>87.0</td>\n",
       "      <td>87.0</td>\n",
       "      <td>87.0</td>\n",
       "    </tr>\n",
       "    <tr>\n",
       "      <th>StackingClassifier</th>\n",
       "      <td>57.0</td>\n",
       "      <td>73.0</td>\n",
       "      <td>60.0</td>\n",
       "      <td>57.0</td>\n",
       "    </tr>\n",
       "  </tbody>\n",
       "</table>\n",
       "</div>"
      ],
      "text/plain": [
       "                        Accuracy  Precision  F1_score  Recall\n",
       "NaiveBayes                  79.0       81.0      80.0    79.0\n",
       "DecisionTreeClassifier      84.0       83.0      83.0    84.0\n",
       "RandomForestClassifier      87.0       87.0      87.0    87.0\n",
       "StackingClassifier          57.0       73.0      60.0    57.0"
      ]
     },
     "execution_count": 79,
     "metadata": {},
     "output_type": "execute_result"
    }
   ],
   "source": [
    "print('Using KFold splitting method:')\n",
    "pd.DataFrame([[nv_kaccuracy,nv_kprecision,nv_kf1,nv_krecall],[dtc1_kaccuracy,dtc1_kprecision,dtc1_kf1,dtc1_krecall],\n",
    "             [rfc1_kaccuracy,rfc1_kprecision,rfc1_kf1,rfc1_krecall],[st_kaccuracy,st_kprecision,st_kf1,st_krecall]],\n",
    "            columns=['Accuracy','Precision','F1_score','Recall'],\n",
    "            index = ['NaiveBayes','DecisionTreeClassifier','RandomForestClassifier','StackingClassifier'])"
   ]
  },
  {
   "cell_type": "markdown",
   "id": "0c78cbfc",
   "metadata": {},
   "source": [
    "**Interpretation**: \n",
    "- On using KFold Splitting method on the dataset for prediction of grades of houses, Random Forest Classifier model gives best metric scores compared to the other models."
   ]
  },
  {
   "cell_type": "code",
   "execution_count": 80,
   "id": "0b01b273",
   "metadata": {},
   "outputs": [
    {
     "name": "stdout",
     "output_type": "stream",
     "text": [
      "Using Repeated Stratified KFold Splitting method:\n"
     ]
    },
    {
     "data": {
      "text/html": [
       "<div>\n",
       "<style scoped>\n",
       "    .dataframe tbody tr th:only-of-type {\n",
       "        vertical-align: middle;\n",
       "    }\n",
       "\n",
       "    .dataframe tbody tr th {\n",
       "        vertical-align: top;\n",
       "    }\n",
       "\n",
       "    .dataframe thead th {\n",
       "        text-align: right;\n",
       "    }\n",
       "</style>\n",
       "<table border=\"1\" class=\"dataframe\">\n",
       "  <thead>\n",
       "    <tr style=\"text-align: right;\">\n",
       "      <th></th>\n",
       "      <th>Accuracy</th>\n",
       "      <th>Precision</th>\n",
       "      <th>F1_score</th>\n",
       "      <th>Recall</th>\n",
       "    </tr>\n",
       "  </thead>\n",
       "  <tbody>\n",
       "    <tr>\n",
       "      <th>NaiveBayes</th>\n",
       "      <td>80.0</td>\n",
       "      <td>81.0</td>\n",
       "      <td>80.0</td>\n",
       "      <td>80.0</td>\n",
       "    </tr>\n",
       "    <tr>\n",
       "      <th>DecisionTreeClassifier</th>\n",
       "      <td>83.0</td>\n",
       "      <td>83.0</td>\n",
       "      <td>83.0</td>\n",
       "      <td>83.0</td>\n",
       "    </tr>\n",
       "    <tr>\n",
       "      <th>RandomForestClassifier</th>\n",
       "      <td>87.0</td>\n",
       "      <td>87.0</td>\n",
       "      <td>87.0</td>\n",
       "      <td>87.0</td>\n",
       "    </tr>\n",
       "    <tr>\n",
       "      <th>StackingClassifier</th>\n",
       "      <td>58.0</td>\n",
       "      <td>73.0</td>\n",
       "      <td>61.0</td>\n",
       "      <td>58.0</td>\n",
       "    </tr>\n",
       "  </tbody>\n",
       "</table>\n",
       "</div>"
      ],
      "text/plain": [
       "                        Accuracy  Precision  F1_score  Recall\n",
       "NaiveBayes                  80.0       81.0      80.0    80.0\n",
       "DecisionTreeClassifier      83.0       83.0      83.0    83.0\n",
       "RandomForestClassifier      87.0       87.0      87.0    87.0\n",
       "StackingClassifier          58.0       73.0      61.0    58.0"
      ]
     },
     "execution_count": 80,
     "metadata": {},
     "output_type": "execute_result"
    }
   ],
   "source": [
    "print('Using Repeated Stratified KFold Splitting method:')\n",
    "pd.DataFrame([[nv_rsaccuracy,nv_rsprecision,nv_rsf1,nv_rsrecall],[dtc1_rsaccuracy,dtc1_rsprecision,dtc1_rsf1,dtc1_rsrecall],\n",
    "             [rfc1_rsaccuracy,rfc1_rsprecision,rfc1_rsf1,rfc1_rsrecall],[st_rsaccuracy,st_rsprecision,st_rsf1,st_rsrecall]],\n",
    "            columns=['Accuracy','Precision','F1_score','Recall'],\n",
    "            index = ['NaiveBayes','DecisionTreeClassifier','RandomForestClassifier','StackingClassifier'])"
   ]
  },
  {
   "cell_type": "markdown",
   "id": "567c547b",
   "metadata": {},
   "source": [
    "**Interpretation**: \n",
    "- On using Repeated Stratified KFold Split method on the models, Random forest classifier gives a good metric score compared to other models."
   ]
  },
  {
   "cell_type": "markdown",
   "id": "212e81e4",
   "metadata": {},
   "source": [
    "## Random Forest Classifier is the best suited model for this dataset."
   ]
  },
  {
   "cell_type": "markdown",
   "id": "1aeccf8f",
   "metadata": {},
   "source": [
    "## Prediction using RandomForestClassifier:"
   ]
  },
  {
   "cell_type": "code",
   "execution_count": 84,
   "id": "7be9dc38",
   "metadata": {},
   "outputs": [
    {
     "name": "stdout",
     "output_type": "stream",
     "text": [
      "How many rooms do you expect:7\n",
      "How many bedrooms do you expect:5\n",
      "How many attached washrooms do you expect:5\n",
      "How many total washrooms do you expect:6\n",
      "How many floors do you expect:4\n",
      "What is your expected rental pay:3800\n",
      "How much area do you expect:330\n",
      "If you need a roof enter Y or N to skip:y\n",
      "How much Roof Area do you expect:55\n",
      "\n",
      "\n",
      "The House you are looking for comes under the grade: C\n"
     ]
    }
   ],
   "source": [
    "# defining a function to get the inputs for our prediction\n",
    "\n",
    "def inputs():\n",
    "    Trooms = int(input('How many rooms do you expect:'))\n",
    "    Nbedrooms = int(input('How many bedrooms do you expect:'))\n",
    "    Nbwashrooms = int(input('How many attached washrooms do you expect:'))\n",
    "    Twashrooms = int(input('How many total washrooms do you expect:'))\n",
    "    Nfloors = int(input('How many floors do you expect:'))\n",
    "    Expectedprice = float(input('What is your expected rental pay:'))\n",
    "    Area = float(input('How much area do you expect:'))\n",
    "    a = input('If you need a roof enter Y or N to skip:')\n",
    "    if a.lower() =='y':\n",
    "        roof = 1\n",
    "        RoofArea = float(input('How much Roof Area do you expect:'))\n",
    "    else:\n",
    "        roof = 0\n",
    "        RoofArea=0\n",
    "    return [Trooms,Nbedrooms,Nbwashrooms,Twashrooms,Nfloors,Expectedprice,Area,RoofArea,roof]\n",
    "\n",
    "def Predicter():\n",
    "    lst = inputs()\n",
    "    input_values = scaler.transform([lst])\n",
    "    grade = rfc1.predict(input_values)\n",
    "    if grade == [0]:\n",
    "        grade= 'A'\n",
    "    elif grade==[1]:\n",
    "        grade='B'\n",
    "    elif grade==[2]:\n",
    "        grade='C'\n",
    "    elif grade==[3]:\n",
    "        grade = 'D'\n",
    "    else:\n",
    "        grade='E'\n",
    "    return grade\n",
    "    \n",
    "grade = Predicter()\n",
    "print('\\n')\n",
    "print('The House you are looking for comes under the grade:',grade)"
   ]
  },
  {
   "cell_type": "markdown",
   "id": "ffb25b43",
   "metadata": {},
   "source": [
    "## Conclusion\n",
    "- Thus on comparing the models in our data we can observe that RandomForestClassifier is the best suited model for our data.\n",
    "- The Evaluation scores are also better for RandomforestClassifier model compared to the other models.\n",
    "\n",
    "## Business Implementation:\n",
    "- Thus by using this model we can predict the grades of the houses and monitor their prices and facilities a customer is looking for.\n",
    "- It can also be helpful in obtaining the grades of the houses that may be available later."
   ]
  }
 ],
 "metadata": {
  "kernelspec": {
   "display_name": "Python 3 (ipykernel)",
   "language": "python",
   "name": "python3"
  },
  "language_info": {
   "codemirror_mode": {
    "name": "ipython",
    "version": 3
   },
   "file_extension": ".py",
   "mimetype": "text/x-python",
   "name": "python",
   "nbconvert_exporter": "python",
   "pygments_lexer": "ipython3",
   "version": "3.9.7"
  }
 },
 "nbformat": 4,
 "nbformat_minor": 5
}
